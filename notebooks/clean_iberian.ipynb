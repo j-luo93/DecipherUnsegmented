{
 "cells": [
  {
   "cell_type": "code",
   "execution_count": 1,
   "metadata": {},
   "outputs": [],
   "source": [
    "import pandas as pd\n",
    "import re\n",
    "from collections import defaultdict"
   ]
  },
  {
   "cell_type": "code",
   "execution_count": 2,
   "metadata": {},
   "outputs": [],
   "source": [
    "df = pd.read_csv('../data/hesperia_epigraphy.csv', sep=',', escapechar='\\\\', encoding='latin1')"
   ]
  },
  {
   "cell_type": "code",
   "execution_count": 3,
   "metadata": {},
   "outputs": [
    {
     "data": {
      "text/html": [
       "<div>\n",
       "<style scoped>\n",
       "    .dataframe tbody tr th:only-of-type {\n",
       "        vertical-align: middle;\n",
       "    }\n",
       "\n",
       "    .dataframe tbody tr th {\n",
       "        vertical-align: top;\n",
       "    }\n",
       "\n",
       "    .dataframe thead th {\n",
       "        text-align: right;\n",
       "    }\n",
       "</style>\n",
       "<table border=\"1\" class=\"dataframe\">\n",
       "  <thead>\n",
       "    <tr style=\"text-align: right;\">\n",
       "      <th></th>\n",
       "      <th>id</th>\n",
       "      <th>REF MLH</th>\n",
       "      <th>REF. HESPERIA</th>\n",
       "      <th>YACIMIENTO</th>\n",
       "      <th>MUNICIPIO</th>\n",
       "      <th>MATERIAL</th>\n",
       "      <th>OBJETO</th>\n",
       "      <th>TIPO SOPORTE</th>\n",
       "      <th>signario paleohispÃ¡nico?</th>\n",
       "      <th>TEXTO</th>\n",
       "      <th>APARATO CRÃTICO</th>\n",
       "      <th>LENGUA</th>\n",
       "    </tr>\n",
       "  </thead>\n",
       "  <tbody>\n",
       "    <tr>\n",
       "      <th>0</th>\n",
       "      <td>3</td>\n",
       "      <td>C.51.01.S1</td>\n",
       "      <td>GI.11.01</td>\n",
       "      <td>La Ciutadella de Roses</td>\n",
       "      <td>Girona</td>\n",
       "      <td>CERAMICA</td>\n",
       "      <td>RECIPIENTE</td>\n",
       "      <td>INDET.</td>\n",
       "      <td>LEVANTINO</td>\n",
       "      <td>obi</td>\n",
       "      <td>NaN</td>\n",
       "      <td>IBERICO</td>\n",
       "    </tr>\n",
       "    <tr>\n",
       "      <th>1</th>\n",
       "      <td>4</td>\n",
       "      <td>C.03.03.S1</td>\n",
       "      <td>GI.08.05</td>\n",
       "      <td>El Mas Castellar</td>\n",
       "      <td>Girona</td>\n",
       "      <td>CERAMICA</td>\n",
       "      <td>RECIPIENTE</td>\n",
       "      <td>INDET.</td>\n",
       "      <td>LEVANTINO</td>\n",
       "      <td>$[---]takokoba[---]&amp;</td>\n",
       "      <td>$[---]takokoba[---]&amp;, $tÃ¡kokÃ³ki&amp; Moncunill, ...</td>\n",
       "      <td>IBERICO</td>\n",
       "    </tr>\n",
       "    <tr>\n",
       "      <th>2</th>\n",
       "      <td>5</td>\n",
       "      <td>C.03.04.S1</td>\n",
       "      <td>GI.08.11</td>\n",
       "      <td>El Mas Castellar</td>\n",
       "      <td>Girona</td>\n",
       "      <td>CERAMICA</td>\n",
       "      <td>RECIPIENTE</td>\n",
       "      <td>INDET.</td>\n",
       "      <td>LEVANTINO</td>\n",
       "      <td>[---]eÅ</td>\n",
       "      <td></td>\n",
       "      <td>IBERICO</td>\n",
       "    </tr>\n",
       "    <tr>\n",
       "      <th>3</th>\n",
       "      <td>6</td>\n",
       "      <td>C.01.34.S1</td>\n",
       "      <td>GI.10.30</td>\n",
       "      <td>EmpÃºries</td>\n",
       "      <td>Girona</td>\n",
       "      <td>CERAMICA</td>\n",
       "      <td>RECIPIENTE</td>\n",
       "      <td>INDET.</td>\n",
       "      <td>LEVANTINO</td>\n",
       "      <td>[---]$ban&amp;</td>\n",
       "      <td>$ban&amp;, $IN&amp; Panosa $á¸¿n&amp; ELM</td>\n",
       "      <td>IBERICO</td>\n",
       "    </tr>\n",
       "    <tr>\n",
       "      <th>4</th>\n",
       "      <td>7</td>\n",
       "      <td>C.01.25.S1</td>\n",
       "      <td>GI.10.21</td>\n",
       "      <td>EmpÃºries</td>\n",
       "      <td>Girona</td>\n",
       "      <td>CERAMICA</td>\n",
       "      <td>RECIPIENTE</td>\n",
       "      <td>PROPIEDAD</td>\n",
       "      <td>LEVANTINO</td>\n",
       "      <td>kans+</td>\n",
       "      <td>NaN</td>\n",
       "      <td>IBERICO</td>\n",
       "    </tr>\n",
       "  </tbody>\n",
       "</table>\n",
       "</div>"
      ],
      "text/plain": [
       "   id     REF MLH REF. HESPERIA              YACIMIENTO MUNICIPIO  MATERIAL  \\\n",
       "0   3  C.51.01.S1      GI.11.01  La Ciutadella de Roses    Girona  CERAMICA   \n",
       "1   4  C.03.03.S1      GI.08.05        El Mas Castellar    Girona  CERAMICA   \n",
       "2   5  C.03.04.S1      GI.08.11        El Mas Castellar    Girona  CERAMICA   \n",
       "3   6  C.01.34.S1      GI.10.30               EmpÃºries    Girona  CERAMICA   \n",
       "4   7  C.01.25.S1      GI.10.21               EmpÃºries    Girona  CERAMICA   \n",
       "\n",
       "       OBJETO TIPO SOPORTE signario paleohispÃ¡nico?                 TEXTO  \\\n",
       "0  RECIPIENTE       INDET.                 LEVANTINO                   obi   \n",
       "1  RECIPIENTE       INDET.                 LEVANTINO  $[---]takokoba[---]&   \n",
       "2  RECIPIENTE       INDET.                 LEVANTINO              [---]eÅ   \n",
       "3  RECIPIENTE       INDET.                 LEVANTINO            [---]$ban&   \n",
       "4  RECIPIENTE    PROPIEDAD                 LEVANTINO                 kans+   \n",
       "\n",
       "                                    APARATO CRÃTICO   LENGUA  \n",
       "0                                                NaN  IBERICO  \n",
       "1  $[---]takokoba[---]&, $tÃ¡kokÃ³ki& Moncunill, ...  IBERICO  \n",
       "2                                                     IBERICO  \n",
       "3                      $ban&, $IN& Panosa $á¸¿n& ELM  IBERICO  \n",
       "4                                                NaN  IBERICO  "
      ]
     },
     "execution_count": 3,
     "metadata": {},
     "output_type": "execute_result"
    }
   ],
   "source": [
    "df.head()"
   ]
  },
  {
   "cell_type": "code",
   "execution_count": 4,
   "metadata": {},
   "outputs": [
    {
     "data": {
      "text/plain": [
       "Index(['id', 'REF MLH', 'REF. HESPERIA', 'YACIMIENTO', 'MUNICIPIO', 'MATERIAL',\n",
       "       'OBJETO', 'TIPO SOPORTE', 'signario paleohispÃ¡nico?', 'TEXTO',\n",
       "       'APARATO CRÃTICO', 'LENGUA'],\n",
       "      dtype='object')"
      ]
     },
     "execution_count": 4,
     "metadata": {},
     "output_type": "execute_result"
    }
   ],
   "source": [
    "df.columns"
   ]
  },
  {
   "cell_type": "code",
   "execution_count": 5,
   "metadata": {},
   "outputs": [],
   "source": [
    "def convert_encoding(series, old_encoding, new_encoding):\n",
    "    \"\"\"Convert the encoding of a given column `col_name`.\"\"\"\n",
    "    return series.str.encode(old_encoding).str.decode(new_encoding)"
   ]
  },
  {
   "cell_type": "code",
   "execution_count": 6,
   "metadata": {},
   "outputs": [],
   "source": [
    "# Convert \"LENGUA\" encoding to utf8.\n",
    "df['LENGUA'] = convert_encoding(df['LENGUA'], 'latin1', 'utf8')"
   ]
  },
  {
   "cell_type": "code",
   "execution_count": 7,
   "metadata": {},
   "outputs": [
    {
     "data": {
      "text/plain": [
       "IBERICO               2095\n",
       "INDET.                 160\n",
       "CELTIBERICO            138\n",
       "LATIN                   11\n",
       "GRIEGO                  10\n",
       "LUSITANO                 6\n",
       "celtibérico?             4\n",
       "no ha lugar              3\n",
       "Celtibérico ?            3\n",
       "Celtibérico?             2\n",
       "Etrusco                  2\n",
       "LATIN/IBERICO            2\n",
       "celtibérico ?            2\n",
       "PÚNICO                   2\n",
       "Púnico                   2\n",
       "N                        2\n",
       "ninguna                  1\n",
       "¿Pseudoescritura?        1\n",
       "latín? o ibérico?        1\n",
       "CELTA                    1\n",
       "latín?                   1\n",
       "IBÉRICO/LATIN?           1\n",
       "paleovasco?              1\n",
       "Celtibérico ??           1\n",
       "ibérico/latín            1\n",
       "Celtibérico/latino       1\n",
       "Name: LENGUA, dtype: int64"
      ]
     },
     "execution_count": 7,
     "metadata": {},
     "output_type": "execute_result"
    }
   ],
   "source": [
    "# Check what languages there are.\n",
    "df['LENGUA'].value_counts()"
   ]
  },
  {
   "cell_type": "code",
   "execution_count": 8,
   "metadata": {},
   "outputs": [],
   "source": [
    "# Convert the encoding of column \"TEXTO\" to utf8.\n",
    "df['TEXTO'] = convert_encoding(df['TEXTO'], 'latin1', 'utf8')"
   ]
  },
  {
   "cell_type": "code",
   "execution_count": 9,
   "metadata": {},
   "outputs": [],
   "source": [
    "# Get the subset of epigraphies that are Iberian.\n",
    "iberico_mask = df['LENGUA'] == 'IBERICO'\n",
    "non_na_mask = df['TEXTO'].notnull()\n",
    "\n",
    "iberico = df[iberico_mask & non_na_mask].copy()"
   ]
  },
  {
   "cell_type": "code",
   "execution_count": 10,
   "metadata": {},
   "outputs": [],
   "source": [
    "# Replace all whitespace tokens with ' ' except for '\\n'.\n",
    "iberico['TEXTO'] = iberico['TEXTO'].str.replace('\\n', '<newline>').str.replace(r'\\s', ' ').str.replace('<newline>', '\\n')"
   ]
  },
  {
   "cell_type": "markdown",
   "metadata": {},
   "source": [
    "# Clean stuff up. We go through the symbols and check if they should be kept."
   ]
  },
  {
   "cell_type": "code",
   "execution_count": 11,
   "metadata": {},
   "outputs": [],
   "source": [
    "def count(df_or_series, col_name=None, as_list=False):\n",
    "    \"\"\"Count all characters in the data and track which texts they are from.\"\"\"\n",
    "    if isinstance(df_or_series, pd.DataFrame):\n",
    "        series = df_or_series[col_name]\n",
    "    else:\n",
    "        series = df_or_series\n",
    "    cs = defaultdict(list) # \"cs\" stands for \"Charset with Source\".\n",
    "    for text in series.values.reshape(-1):\n",
    "        for c in set(text):\n",
    "            cs[c].append(text)\n",
    "\n",
    "    lst = sorted(cs.keys())\n",
    "    if as_list:\n",
    "        print(lst)\n",
    "    else:\n",
    "        print(''.join(lst))\n",
    "    return cs"
   ]
  },
  {
   "cell_type": "code",
   "execution_count": 12,
   "metadata": {},
   "outputs": [
    {
     "name": "stdout",
     "output_type": "stream",
     "text": [
      "\n",
      " #$%&()*+,-./0123456789:;?ABCDEFGHIJLMNOPQRSTUVWXY[]_abcdefghijklmnopqrstuvxz{}©·Íáéíóúńōŕś̵̠̣̱̲́̂ΑΔΕΙΚΛΝΠΩϡḅḇḍḳḵḷḻḿṁṃṇṉṛṟṣṭṯạẹịọụ‐’‡…∙│𐘃\n"
     ]
    }
   ],
   "source": [
    "cs = count(iberico, 'TEXTO')"
   ]
  },
  {
   "cell_type": "markdown",
   "metadata": {},
   "source": [
    "### Get rid of inline comments."
   ]
  },
  {
   "cell_type": "code",
   "execution_count": 13,
   "metadata": {},
   "outputs": [],
   "source": [
    "pattern = re.compile('%.*?#', re.DOTALL) # The comment might span multiple lines."
   ]
  },
  {
   "cell_type": "code",
   "execution_count": 14,
   "metadata": {},
   "outputs": [
    {
     "name": "stdout",
     "output_type": "stream",
     "text": [
      "\n",
      " $&()*+,-./0123456789:;?ABCDEFGHIJLMNOQRSTVWXY[]_abcdefgiklmnoprstuv{}©·áéíóúńōŕś̵̠̣̱̲́̂ΑΔΕΙΚΛΝΠΩḅḇḍḳḵḷḻḿṁṃṇṉṛṟṣṭṯạẹịọụ‐’‡…∙│𐘃\n"
     ]
    }
   ],
   "source": [
    "tmp_text = iberico['TEXTO'].str.replace(pattern, ' ', regex=True)\n",
    "cs = count(tmp_text)\n",
    "iberico['tmp_text'] = tmp_text"
   ]
  },
  {
   "cell_type": "markdown",
   "metadata": {},
   "source": [
    "### Replace \"?\" with \"+\" everywhere. Both indicates some missing character."
   ]
  },
  {
   "cell_type": "code",
   "execution_count": 15,
   "metadata": {},
   "outputs": [],
   "source": [
    "iberico['tmp_text'] = tmp_text = tmp_text.str.replace('?', '+', regex=False)"
   ]
  },
  {
   "cell_type": "code",
   "execution_count": 16,
   "metadata": {},
   "outputs": [
    {
     "name": "stdout",
     "output_type": "stream",
     "text": [
      "\n",
      " $&()*+,-./0123456789:;ABCDEFGHIJLMNOQRSTVWXY[]_abcdefgiklmnoprstuv{}©·áéíóúńōŕś̵̠̣̱̲́̂ΑΔΕΙΚΛΝΠΩḅḇḍḳḵḷḻḿṁṃṇṉṛṟṣṭṯạẹịọụ‐’‡…∙│𐘃\n"
     ]
    }
   ],
   "source": [
    "cs = count(tmp_text)"
   ]
  },
  {
   "cell_type": "markdown",
   "metadata": {},
   "source": [
    "### Replace special symbols with \"?\". We use \"?\" to indicate some special graphemes that experts are uncertain about."
   ]
  },
  {
   "cell_type": "code",
   "execution_count": 17,
   "metadata": {},
   "outputs": [
    {
     "name": "stdout",
     "output_type": "stream",
     "text": [
      "['A:\\n\\n$bíśkíbíS47rsetí&:$S47ia&:$bineia& \\n\\n$bisbíturbiWtín& \\n\\n\\nB:\\n\\n$śntarlabí+nkos&́:$bíS47rtuan&:$koikakiskítur& \\n\\n$ebiS56koraS56& \\n\\n'\n",
      " '++sinS41le[-]binkor:iuśtiS56:tarbinbaleś:kooo:aŕakotaŕ[-]laŕ:aianetinS41+talabin:ireba:aśS56:sinbitai:aia[ ]eia:boa:bíDkín:selkí:[-]eśeśanbiabiHkaŕesS56en'\n",
      " '  \\n\\n$+biśbaS56isS47kaS47&\\n\\n\\n'\n",
      " '  kokaŕ\\n\\n  $karekar&:se .$kí&. .S47f. ker:lukeśiŕ:$akailtir .S47f.& kerai:$ir++riatuiaś&\\n\\n\\n\\n'\n",
      " '$]:S48 v rkibea[&'\n",
      " '$ati &$.S47f&. $uia+iskeunir&:$tinkan&:$berśtano&+ .S47f. a\\n\\n$ś+sebatitaŕ&:.S58. $itan+aŕ&'\n",
      " ' \\n\\n \\n\\n]śeliŕ:ututa:baśiŕ:tarakar\\n\\n]nki\\n\\n\\n  \\n\\n$otalauki S48& S47f ŕ:$siel &:$S48rikan&\\n\\netaDŕeŕ:sosintikeŕka:nanban\\n\\n$baneśarikan &:etaŕ                                                                             urketiikeŕka:e S47f tiDŕ:laki \\n\\n\\n  \\n\\nsaltulakokia kí (6)\\n\\n$berśiŕka kí& (2)$artakerka kí& (6)$G27 l S48 śtautinka kí& (7)berśiŕka a o (3) kí (1)\\n\\n$biurtakerka kí& (2)$S47a Dltirka kí& (5)saltulakokia kí (1)saltulakokia o (2)                                        \\n\\n$G27 beronka kí& (2)berśiŕka o (3)$sakarbaśka kí&(3 bi)berśiŕka ki (10)$aituar kí kia kí& (1)\\n\\n$kaniberonka kí& (5)$biuriltirka kí& (2)$s S48 kelka kí& (6)$biurtakerka kí& (5)aituar kí ki a kí (6)'\n",
      " ' \\n\\n$bikirtib̲a̲śki&:śalbi+[-]a\\n\\n$]ṟa[&-$]+tin&\\n\\n\\n \\n\\n$birlako&:$iṟśṯi̱ŕ&:ia[\\n\\n$]+tin&:$ś S46 ak̲a̲rna+&['\n",
      " '\\n\\n$eS47fokíbuW&' 'S87 ba' 'ba S87' 'l ba S87+' 'l\\n\\ne\\n\\nb̲a̲\\n\\nS87'\n",
      " 't̲a̲ S87  ó  l̲ S87' 'S87' 'S87' '$rkesbaS56eliS56++&']\n"
     ]
    },
    {
     "name": "stderr",
     "output_type": "stream",
     "text": [
      "/scratch/j_luo/anaconda3/lib/python3.8/site-packages/pandas/core/strings.py:2001: UserWarning: This pattern has match groups. To actually get the groups, use str.extract.\n",
      "  return func(self, *args, **kwargs)\n"
     ]
    }
   ],
   "source": [
    "# Special graphemes are represented by \"S\" or \"G\" followed by some integers. For instance, \"S47\", \"G27\".\n",
    "special_pat = r'(?P<sym>[S|G]\\d+)'\n",
    "print(tmp_text[tmp_text.str.contains(special_pat, regex=True)].values)"
   ]
  },
  {
   "cell_type": "code",
   "execution_count": 18,
   "metadata": {},
   "outputs": [],
   "source": [
    "# Get all special graphems.\n",
    "special_signs = set(tmp_text.str.extractall(special_pat).reset_index()['sym'])"
   ]
  },
  {
   "cell_type": "code",
   "execution_count": 19,
   "metadata": {},
   "outputs": [],
   "source": [
    "# Replace them with \"?\".\n",
    "for sign in special_signs:\n",
    "    tmp_text = tmp_text.str.replace(sign, '?')"
   ]
  },
  {
   "cell_type": "code",
   "execution_count": 20,
   "metadata": {},
   "outputs": [],
   "source": [
    "iberico['TEXTO'] = tmp_text"
   ]
  },
  {
   "cell_type": "code",
   "execution_count": 21,
   "metadata": {},
   "outputs": [
    {
     "name": "stdout",
     "output_type": "stream",
     "text": [
      "\n",
      " $&()*+,-./0123456789:;?ABCDEFHIJLMNOQRSTVWXY[]_abcdefgiklmnoprstuv{}©·áéíóúńōŕś̵̠̣̱̲́̂ΑΔΕΙΚΛΝΠΩḅḇḍḳḵḷḻḿṁṃṇṉṛṟṣṭṯạẹịọụ‐’‡…∙│𐘃\n"
     ]
    }
   ],
   "source": [
    "cs = count(tmp_text)"
   ]
  },
  {
   "cell_type": "markdown",
   "metadata": {},
   "source": [
    "### Unescape html stuff."
   ]
  },
  {
   "cell_type": "code",
   "execution_count": 22,
   "metadata": {},
   "outputs": [],
   "source": [
    "import html"
   ]
  },
  {
   "cell_type": "code",
   "execution_count": 23,
   "metadata": {},
   "outputs": [
    {
     "name": "stdout",
     "output_type": "stream",
     "text": [
      "\n",
      " $&()*+,-./0123456789:<>?ABCDEFHIJLMNOQRSTVWXY[]_abcdefgiklmnoprstuv{}©·áéíóúńōŕś̵̠̣̱̲́̂ΑΔΕΙΚΛΝΠΩḅḇḍḳḵḷḻḿṁṃṇṉṛṟṣṭṯạẹịọụ‐’‡…∙│𐘃\n"
     ]
    }
   ],
   "source": [
    "iberico['TEXTO'] = tmp_text = tmp_text.apply(html.unescape)\n",
    "cs = count(tmp_text)"
   ]
  },
  {
   "cell_type": "markdown",
   "metadata": {},
   "source": [
    "### Replace alternative reading indicators that use \"$...&\" patterns."
   ]
  },
  {
   "cell_type": "code",
   "execution_count": 24,
   "metadata": {},
   "outputs": [],
   "source": [
    "pattern = re.compile(r'\\$(.+?)&', re.DOTALL)"
   ]
  },
  {
   "cell_type": "code",
   "execution_count": 25,
   "metadata": {},
   "outputs": [],
   "source": [
    "# Some alternative readings seem to be nested. Therefore we run it twice.\n",
    "tmp_text = tmp_text.str.replace(pattern, r'\\1', regex=True)\n",
    "tmp_text = tmp_text.str.replace(pattern, r'\\1', regex=True)"
   ]
  },
  {
   "cell_type": "code",
   "execution_count": 26,
   "metadata": {},
   "outputs": [
    {
     "name": "stdout",
     "output_type": "stream",
     "text": [
      "\n",
      " $&()*+,-./0123456789:<>?ABCDEFHIJLMNOQRSTVWXY[]_abcdefgiklmnoprstuv{}©·áéíóúńōŕś̵̠̣̱̲́̂ΑΔΕΙΚΛΝΠΩḅḇḍḳḵḷḻḿṁṃṇṉṛṟṣṭṯạẹịọụ‐’‡…∙│𐘃\n"
     ]
    }
   ],
   "source": [
    "cs = count(tmp_text)"
   ]
  },
  {
   "cell_type": "code",
   "execution_count": 27,
   "metadata": {},
   "outputs": [
    {
     "data": {
      "text/plain": [
       "['    \\n\\n     kau(ŕ)ubastíki\\n\\n     kaiké(irkaiska)rta(u)tínen(obatil)\\n\\n       otanar :eŕebauśitirtéśierban(e)sitar\\n\\n       $kaisurarbitan:sakári(s)kéŕtaibataŕati\\n\\n       aité(rbaebaseŕ+er)ke+te+iba++tíl+\\n\\n\\n  \\n\\n    abaŕśen:sorse:ertiketór:bitauketitóre\\n\\n    iunstírabatékaitíukáité(ba)i(sḿ)iltíŕbitúkáŕinar\\n\\n      uśtalaibi:etais : ekátir\\n\\n    abaŕtaŕike:iu[---]\\n\\n    iŕ(ba)ŕbekoekúatebakis\\n\\n      aba+(tu)+a+akú+\\n\\n\\n   \\n\\n     ]rŕ:IIIIIIIIIIIIII:IIIIIII\\n\\n     ]++eba\\n\\n\\n  \\n\\n]+aká :a IIIIII',\n",
       " '      ]tin:iunstír:tau+koteká [\\n\\n       ]tieśnitíŕatan:biuŕtikise:[\\n\\n       beŕisetítiatoká:nikokátoar[-]bai: \\n\\n       túŕkosbebon:uskáŕe:tieká & ultítikán:\\n\\n 5 eŕtebaśká:bintuŕkeská : abatutíkerká:uke\\n\\n  ++bo:tíŕatisukil:itíkotesun  kortínte:\\n\\n  tíekáa:sitíŕakáŕka+:nikokaiatai\\n\\n  is:beŕteike:ituŕutan:lebósba[+]ibon[\\n\\n        batíŕ[e+]káŕ[-]iteŕibon\\n\\n 10         tu\\n\\n\\n      śalir:i[-]ba[---]:banteŕba\\n\\n  n:tínebeta[3\\n\\n4]n:itíte++ta[\\n\\n  salaker:itiŕoketebon : iŕ$+[\\n\\n  ká:iunstíriká:sikite:basir[\\n\\n\\n  kátúlatíen  \\n\\n\\n']"
      ]
     },
     "execution_count": 27,
     "metadata": {},
     "output_type": "execute_result"
    }
   ],
   "source": [
    "cs['$']"
   ]
  },
  {
   "cell_type": "code",
   "execution_count": 28,
   "metadata": {},
   "outputs": [
    {
     "data": {
      "text/plain": [
       "['barta  &',\n",
       " '      ]tin:iunstír:tau+koteká [\\n\\n       ]tieśnitíŕatan:biuŕtikise:[\\n\\n       beŕisetítiatoká:nikokátoar[-]bai: \\n\\n       túŕkosbebon:uskáŕe:tieká & ultítikán:\\n\\n 5 eŕtebaśká:bintuŕkeská : abatutíkerká:uke\\n\\n  ++bo:tíŕatisukil:itíkotesun  kortínte:\\n\\n  tíekáa:sitíŕakáŕka+:nikokaiatai\\n\\n  is:beŕteike:ituŕutan:lebósba[+]ibon[\\n\\n        batíŕ[e+]káŕ[-]iteŕibon\\n\\n 10         tu\\n\\n\\n      śalir:i[-]ba[---]:banteŕba\\n\\n  n:tínebeta[3\\n\\n4]n:itíte++ta[\\n\\n  salaker:itiŕoketebon : iŕ$+[\\n\\n  ká:iunstíriká:sikite:basir[\\n\\n\\n  kátúlatíen  \\n\\n\\n']"
      ]
     },
     "execution_count": 28,
     "metadata": {},
     "output_type": "execute_result"
    }
   ],
   "source": [
    "cs['&']"
   ]
  },
  {
   "cell_type": "markdown",
   "metadata": {},
   "source": [
    "### There is still a couple errors with alternative readings. Just delete these symbols altogether."
   ]
  },
  {
   "cell_type": "code",
   "execution_count": 29,
   "metadata": {},
   "outputs": [],
   "source": [
    "iberico['tmp_text'] = tmp_text = tmp_text.str.replace(r'[\\$&]', '', regex=True)"
   ]
  },
  {
   "cell_type": "code",
   "execution_count": 30,
   "metadata": {},
   "outputs": [
    {
     "name": "stdout",
     "output_type": "stream",
     "text": [
      "\n",
      " ()*+,-./0123456789:<>?ABCDEFHIJLMNOQRSTVWXY[]_abcdefgiklmnoprstuv{}©·áéíóúńōŕś̵̠̣̱̲́̂ΑΔΕΙΚΛΝΠΩḅḇḍḳḵḷḻḿṁṃṇṉṛṟṣṭṯạẹịọụ‐’‡…∙│𐘃\n"
     ]
    }
   ],
   "source": [
    "cs = count(tmp_text)"
   ]
  },
  {
   "cell_type": "markdown",
   "metadata": {},
   "source": [
    "### Try to see what these brackets, parentheses and braces are enclosing."
   ]
  },
  {
   "cell_type": "code",
   "execution_count": 31,
   "metadata": {},
   "outputs": [],
   "source": [
    "def get_matches(series, pattern, regex=True):\n",
    "    \"\"\"Get all rows that match the pattern\"\"\"\n",
    "    return series[series.str.contains(pattern, regex=regex)]\n",
    "\n",
    "def get_matches_as_set(series, pattern):\n",
    "    \"\"\"Get all matches as set.\"\"\"\n",
    "    matches = series.apply(lambda s: re.findall(pattern, s))\n",
    "    num_matches = matches.apply(len)\n",
    "    return set(sum(matches[(num_matches > 0)].values, list()))"
   ]
  },
  {
   "cell_type": "code",
   "execution_count": 32,
   "metadata": {},
   "outputs": [],
   "source": [
    "pattern_parent = re.compile(r'(\\(.*?\\))')"
   ]
  },
  {
   "cell_type": "code",
   "execution_count": 33,
   "metadata": {},
   "outputs": [
    {
     "data": {
      "text/plain": [
       "{'(+)',\n",
       " '(-)',\n",
       " '(1)',\n",
       " '(10)',\n",
       " '(2)',\n",
       " '(3 bi)',\n",
       " '(3)',\n",
       " '(5)',\n",
       " '(6)',\n",
       " '(7)',\n",
       " '([)',\n",
       " '([--])',\n",
       " '([-])',\n",
       " '(a)',\n",
       " '(aspa)',\n",
       " '(b)',\n",
       " '(ba)',\n",
       " '(e)',\n",
       " '(irkaiska)',\n",
       " '(koŕ)',\n",
       " '(marca)',\n",
       " '(obatil)',\n",
       " '(rbaebaseŕ+er)',\n",
       " '(s)',\n",
       " '(sḿ)',\n",
       " '(tu)',\n",
       " '(u)',\n",
       " '(vac)',\n",
       " '(vacat)',\n",
       " '(ŕ)',\n",
       " '(ḿ)'}"
      ]
     },
     "execution_count": 33,
     "metadata": {},
     "output_type": "execute_result"
    }
   ],
   "source": [
    "get_matches_as_set(tmp_text, pattern_parent)"
   ]
  },
  {
   "cell_type": "code",
   "execution_count": 34,
   "metadata": {},
   "outputs": [],
   "source": [
    "pd.options.display.max_colwidth = 0 # NOTE Print out every thing in the column."
   ]
  },
  {
   "cell_type": "code",
   "execution_count": 35,
   "metadata": {},
   "outputs": [
    {
     "data": {
      "text/plain": [
       "108     aŕka(+)ibe[\\n\\nbiuŕau[\\n\\neteso\\n\\n- - -]+s[ \\n\\n- - -]tar[  \\n\\n+biuŕso\\n\\n++  \\n\\nbiuŕtibaś \\n\\nlauŕto \\n\\neteśuŕ \\n\\nie I I I I[-]o \\n\\n -]te+[- -]++                                                                                                                                                                                                                \n",
       "288      \\n\\nbalkar \\n\\n\\n \\n\\naḅịḷạḳụs(+)istiŕ(+)lakea(+)banśako+o̲l̲a̲\\n\\naiuniltiŕte\\n\\n\\n \\n\\nṇịŕ[.]ṛ́ekoneśanṣ́ại̱t̲e̲a̲ś̲a̲k̲a̲i̱b̲a̲r̲b̲e̲\\n\\n\\n \\n\\nḅạḷ+ḳạḅạḳạ                                                                                                                                                                                        \n",
       "878     si++++(+):++[ - - - ]+[\\n\\nbaidesir:bilosg+\\n\\nŕe:biosildun                                                                                                                                                                                                                                                                                                             \n",
       "1013    iltúb̲o̲kontet̲u̱+(+)ạṛ                                                                                                                                                                                                                                                                                                                                               \n",
       "1167    (+)++b̲e̲[                                                                                                                                                                                                                                                                                                                                                              \n",
       "1176      ](+)++ṟbante[-]k̲i̱arbaniḿbaŕe\\n\\n\\n  ]banebar                                                                                                                                                                                                                                                                                                                       \n",
       "1806    +]bantiŕatan[---]ri+[+   \\n\\nŕoketan[+]tinekaŕtona[  \\n\\nbaŕete:iuns[ti]ŕ[-]nba[  \\n\\n+]bakaiakilu:aŕikebaanaŕuki[ \\n\\n+]s:beŕkas:n[---]ḿtibian[  5\\n\\n]+neroŕte:lekaŕakakéutite[  \\n\\n]l:túskiteababakitakan[+  \\n\\n]tiŕata+(+):banbaṇai+[  \\n\\nv  iniltiŕe:\\n\\n]+iaban:uŕe+[                                     10\\n\\nkakiŕabaŕkien[    \\n\\n]lteis:u[\\n\\n]++ṭẹ[\\n\\n\\n\n",
       "Name: TEXTO, dtype: object"
      ]
     },
     "execution_count": 35,
     "metadata": {},
     "output_type": "execute_result"
    }
   ],
   "source": [
    "get_matches(tmp_text, '(+)', regex=False)"
   ]
  },
  {
   "cell_type": "code",
   "execution_count": 36,
   "metadata": {},
   "outputs": [
    {
     "data": {
      "text/plain": [
       "1129    ]teḿ̲b̲a̲+[--(-)]bant̲e̲:bantibat̲e̱[\n",
       "Name: TEXTO, dtype: object"
      ]
     },
     "execution_count": 36,
     "metadata": {},
     "output_type": "execute_result"
    }
   ],
   "source": [
    "get_matches(tmp_text, '(-)', regex=False)"
   ]
  },
  {
   "cell_type": "markdown",
   "metadata": {},
   "source": [
    "### Remove the parentheses that do not enclose some alphanumeric string."
   ]
  },
  {
   "cell_type": "code",
   "execution_count": 37,
   "metadata": {},
   "outputs": [
    {
     "data": {
      "text/plain": [
       "{'+', '-', '[', '[--]', '[-]'}"
      ]
     },
     "execution_count": 37,
     "metadata": {},
     "output_type": "execute_result"
    }
   ],
   "source": [
    "pattern = re.compile(r'\\((\\W+)\\)')\n",
    "get_matches_as_set(tmp_text, pattern)"
   ]
  },
  {
   "cell_type": "code",
   "execution_count": 38,
   "metadata": {},
   "outputs": [],
   "source": [
    "tmp_text = tmp_text.str.replace(pattern, r'\\1', regex=True)"
   ]
  },
  {
   "cell_type": "code",
   "execution_count": 39,
   "metadata": {},
   "outputs": [
    {
     "data": {
      "text/plain": [
       "{'(1)',\n",
       " '(10)',\n",
       " '(2)',\n",
       " '(3 bi)',\n",
       " '(3)',\n",
       " '(5)',\n",
       " '(6)',\n",
       " '(7)',\n",
       " '(a)',\n",
       " '(aspa)',\n",
       " '(b)',\n",
       " '(ba)',\n",
       " '(e)',\n",
       " '(irkaiska)',\n",
       " '(koŕ)',\n",
       " '(marca)',\n",
       " '(obatil)',\n",
       " '(rbaebaseŕ+er)',\n",
       " '(s)',\n",
       " '(sḿ)',\n",
       " '(tu)',\n",
       " '(u)',\n",
       " '(vac)',\n",
       " '(vacat)',\n",
       " '(ŕ)',\n",
       " '(ḿ)'}"
      ]
     },
     "execution_count": 39,
     "metadata": {},
     "output_type": "execute_result"
    }
   ],
   "source": [
    "get_matches_as_set(tmp_text, pattern_parent)"
   ]
  },
  {
   "cell_type": "markdown",
   "metadata": {},
   "source": [
    "### Parentheses with numbers in them are mostly likely from annotators that signify different places in the epigraphies. So are \"(a)\" and \"(b)\". We replace them with newlines instead."
   ]
  },
  {
   "cell_type": "code",
   "execution_count": 40,
   "metadata": {},
   "outputs": [],
   "source": [
    "patterns = ['1', '10', '2', '3 bi', '3', '5', '6', '7', \"a\", \"b\"]\n",
    "for pattern in patterns:\n",
    "    tmp_text = tmp_text.str.replace(f'({pattern})', r'\\n', regex=False)"
   ]
  },
  {
   "cell_type": "code",
   "execution_count": 41,
   "metadata": {},
   "outputs": [
    {
     "data": {
      "text/plain": [
       "{'(aspa)',\n",
       " '(ba)',\n",
       " '(e)',\n",
       " '(irkaiska)',\n",
       " '(koŕ)',\n",
       " '(marca)',\n",
       " '(obatil)',\n",
       " '(rbaebaseŕ+er)',\n",
       " '(s)',\n",
       " '(sḿ)',\n",
       " '(tu)',\n",
       " '(u)',\n",
       " '(vac)',\n",
       " '(vacat)',\n",
       " '(ŕ)',\n",
       " '(ḿ)'}"
      ]
     },
     "execution_count": 41,
     "metadata": {},
     "output_type": "execute_result"
    }
   ],
   "source": [
    "get_matches_as_set(tmp_text, pattern_parent)"
   ]
  },
  {
   "cell_type": "markdown",
   "metadata": {},
   "source": [
    "### \"(marca)\", \"(vac)\" and \"(vacat)\" seem to be from the annotators."
   ]
  },
  {
   "cell_type": "code",
   "execution_count": 42,
   "metadata": {},
   "outputs": [],
   "source": [
    "# Replace (vac) and (vacate) with whitespace.\n",
    "tmp_text = tmp_text.str.replace('(marca)', '', regex=False)\n",
    "tmp_text = tmp_text.str.replace('(vac)', '', regex=False)\n",
    "tmp_text = tmp_text.str.replace('(vacat)', '', regex=False)"
   ]
  },
  {
   "cell_type": "code",
   "execution_count": 43,
   "metadata": {},
   "outputs": [],
   "source": [
    "# Replace (a) and (b) with newlines.\n",
    "tmp_text = tmp_text.str.replace('(a)', '\\n', regex=False)\n",
    "tmp_text = tmp_text.str.replace('(b)', '\\n', regex=False)"
   ]
  },
  {
   "cell_type": "code",
   "execution_count": 44,
   "metadata": {},
   "outputs": [
    {
     "name": "stderr",
     "output_type": "stream",
     "text": [
      "/scratch/j_luo/anaconda3/lib/python3.8/site-packages/pandas/core/strings.py:2001: UserWarning: This pattern has match groups. To actually get the groups, use str.extract.\n",
      "  return func(self, *args, **kwargs)\n"
     ]
    },
    {
     "data": {
      "text/plain": [
       "44        lu\\n\\n\\n  (aspa)                                                                                                                                                                                                                                                                                                                                                                                                                                                                                                                     \n",
       "55      :iŕekeśta(ḿ)nataŕśuekiarsinekun\\n\\nbaibaibar                                                                                                                                                                                                                                                                                                                                                                                                                                                                                           \n",
       "240     tikirsikoŕ\\n\\nsakaŕi(koŕ) e-\\n\\nban:erirtan\\n\\naŕora:an-\\n\\nkonạụ[n]ịṇ\\n\\n------+                                                                                                                                                                                                                                                                                                                                                                                                                                                  \n",
       "1021        \\n\\n     kau(ŕ)ubastíki\\n\\n     kaiké(irkaiska)rta(u)tínen(obatil)\\n\\n       otanar :eŕebauśitirtéśierban(e)sitar\\n\\n       kaisurarbitan:sakári(s)kéŕtaibataŕati\\n\\n       aité(rbaebaseŕ+er)ke+te+iba++tíl+\\n\\n\\n  \\n\\n    abaŕśen:sorse:ertiketór:bitauketitóre\\n\\n    iunstírabatékaitíukáité(ba)i(sḿ)iltíŕbitúkáŕinar\\n\\n      uśtalaibi:etais : ekátir\\n\\n    abaŕtaŕike:iu[---]\\n\\n    iŕ(ba)ŕbekoekúatebakis\\n\\n      aba+(tu)+a+akú+\\n\\n\\n   \\n\\n     ]rŕ:IIIIIIIIIIIIII:IIIIIII\\n\\n     ]++eba\\n\\n\\n  \\n\\n]+aká :a IIIIII\n",
       "Name: TEXTO, dtype: object"
      ]
     },
     "execution_count": 44,
     "metadata": {},
     "output_type": "execute_result"
    }
   ],
   "source": [
    "get_matches(tmp_text, pattern_parent)"
   ]
  },
  {
   "cell_type": "code",
   "execution_count": 45,
   "metadata": {},
   "outputs": [],
   "source": [
    "# I'm not sure about the last text as it contains many characters in parentheses. I remove this text from the dataset.\n",
    "tmp_text.loc[1021] = ''"
   ]
  },
  {
   "cell_type": "code",
   "execution_count": 46,
   "metadata": {},
   "outputs": [],
   "source": [
    "# Remove (aspa). It's probably a weird sign.\n",
    "tmp_text = tmp_text.str.replace('(aspa)', '', regex=False)"
   ]
  },
  {
   "cell_type": "code",
   "execution_count": 47,
   "metadata": {},
   "outputs": [
    {
     "data": {
      "text/plain": [
       "55     :iŕekeśta(ḿ)nataŕśuekiarsinekun\\n\\nbaibaibar                                         \n",
       "240    tikirsikoŕ\\n\\nsakaŕi(koŕ) e-\\n\\nban:erirtan\\n\\naŕora:an-\\n\\nkonạụ[n]ịṇ\\n\\n------+\n",
       "Name: TEXTO, dtype: object"
      ]
     },
     "execution_count": 47,
     "metadata": {},
     "output_type": "execute_result"
    }
   ],
   "source": [
    "get_matches(tmp_text, pattern_parent)"
   ]
  },
  {
   "cell_type": "code",
   "execution_count": 48,
   "metadata": {},
   "outputs": [],
   "source": [
    "# These two texts gets discarded as well.\n",
    "tmp_text.loc[55] = ''\n",
    "tmp_text.loc[240] = ''"
   ]
  },
  {
   "cell_type": "code",
   "execution_count": 49,
   "metadata": {},
   "outputs": [
    {
     "name": "stdout",
     "output_type": "stream",
     "text": [
      "\n",
      " )*+,-./0123456789:<>?ABCDEFHIJLMNOQRSTVWXY[\\]_abcdefgiklmnorstuv{}©·áéíóúńōŕś̵̠̣̱̲́̂ΑΔΕΙΚΛΝΠΩḅḇḍḳḵḷḻḿṁṃṇṉṛṟṣṭṯạẹịọụ‐’‡…∙│𐘃\n"
     ]
    }
   ],
   "source": [
    "cs = count(tmp_text)"
   ]
  },
  {
   "cell_type": "markdown",
   "metadata": {},
   "source": [
    "### Deal with single ')' characters."
   ]
  },
  {
   "cell_type": "code",
   "execution_count": 50,
   "metadata": {},
   "outputs": [
    {
     "data": {
      "text/plain": [
       "['a)\\n\\nkutui\\n\\nb)\\n\\nu',\n",
       " 'a)\\n\\n\\nui\\n\\n\\nb)\\n\\nl',\n",
       " 'a) o\\n\\nb) ka\\n\\nc) kika',\n",
       " 'a) kebelkuŕe:eŕkunbase \\n\\nb) śaúśir[\\n\\nc) ]ṉeotiṉ+\\n\\nd) kebe',\n",
       " 'a) e\\n\\nb) ere',\n",
       " 'a) ḿ++\\n\\nb) ḿ++tá+',\n",
       " '1) onoisakebatiubiku\\n\\n\\n2) ++++kutun',\n",
       " 'a) baitolo\\n\\n\\nb) baitolo']"
      ]
     },
     "execution_count": 50,
     "metadata": {},
     "output_type": "execute_result"
    }
   ],
   "source": [
    "cs[')']"
   ]
  },
  {
   "cell_type": "code",
   "execution_count": 51,
   "metadata": {},
   "outputs": [],
   "source": [
    "# They seem to indicate different sections of texts. Replace them with newlines.\n",
    "tmp_text = tmp_text.str.replace(r'[abcd12]\\)', r'\\n', regex=True)"
   ]
  },
  {
   "cell_type": "code",
   "execution_count": 52,
   "metadata": {},
   "outputs": [
    {
     "name": "stdout",
     "output_type": "stream",
     "text": [
      "\n",
      " *+,-./0123456789:<>?ABCDEFHIJLMNOQRSTVWXY[\\]_abcdefgiklmnorstuv{}©·áéíóúńōŕś̵̠̣̱̲́̂ΑΔΕΙΚΛΝΠΩḅḇḍḳḵḷḻḿṁṃṇṉṛṟṣṭṯạẹịọụ‐’‡…∙│𐘃\n"
     ]
    }
   ],
   "source": [
    "cs = count(tmp_text)"
   ]
  },
  {
   "cell_type": "markdown",
   "metadata": {},
   "source": [
    "### What are these angle brackets."
   ]
  },
  {
   "cell_type": "code",
   "execution_count": 53,
   "metadata": {},
   "outputs": [
    {
     "data": {
      "text/plain": [
       "302    ]b̲[   \\n\\n]o i̲b   \\n\\n]X X<: ibe  [-]+o̲+e̲[                                                 \\n\\n]o̲ŕbiloske:[-]SS̲X̲X<̲:[-][   \\n\\n]ŕike:X<X<:k̲ukebuŕke :<[                         5\\n\\n]X̲X̲ [:+] śaneke̲:X<X<̲:leŕsge [                           \\n\\n[-]eosdaŕke:><X<̲+[   \\n\\n]+++tigiś̲++[   \\n\\n[-]o̲[                                                                           \n",
       "877      \\n\\niŕike:orti:gaŕokan:dadula:baśk:\\n\\nbuiśtiner:bagaŕok:sssX<:tuŕlbai\\n\\nluŕa:leguśegik:baseŕokeiunbaida:\\n\\nuŕke:basbidiŕbartin:iŕike:baseŕ\\n\\nokar:tebind:belagaśikauŕ:isbin                  5 \\n\\nai:asgandis:tagisgaŕok:binike                         \\n\\nbin:śalir:kidei:gaibigait:\\n\\n \\n\\nsakaŕiskeŕ\\n\\narnai:                                                                  \n",
       "998    isbataŕis\\n\\nsere+e+\\n\\n>IIIIeriri+                                                                                                                                                                                                                                                                                                                                                         \n",
       "Name: TEXTO, dtype: object"
      ]
     },
     "execution_count": 53,
     "metadata": {},
     "output_type": "execute_result"
    }
   ],
   "source": [
    "get_matches(tmp_text, r'[<>]', regex=True)"
   ]
  },
  {
   "cell_type": "code",
   "execution_count": 54,
   "metadata": {},
   "outputs": [],
   "source": [
    "# They are probably special signs. "
   ]
  },
  {
   "cell_type": "markdown",
   "metadata": {},
   "source": [
    "### Deal with dots."
   ]
  },
  {
   "cell_type": "code",
   "execution_count": 55,
   "metadata": {},
   "outputs": [
    {
     "data": {
      "text/plain": [
       "124     selkití[.]+                                                                                                                                                                                                                                                                                                                                                                                                                                                                                                                                                                                                                                                                                                                                                \n",
       "132       tales\\n\\n\\n  a[.]tó\\n\\n\\n  ta\\n\\n                                                                                                                                                                                                                                                                                                                                                                                                                                                                                                                                                                                                                                                                                                                        \n",
       "133       il+[---]\\n\\n\\n  +i+[.]+\\n\\n                                                                                                                                                                                                                                                                                                                                                                                                                                                                                                                                                                                                                                                                                                                              \n",
       "159     [.]+lkitíbaś \\n\\nlauŕsu:túrin \\n\\naluŕtíleis \\n\\nbilotíkeŕei                                                                                                                                                                                                                                                                                                                                                                                                                                                                                                                                                                                                                                                                                               \n",
       "222     [---]u[.]i[.]tibaśte+[---]                                                                                                                                                                                                                                                                                                                                                                                                                                                                                                                                                                                                                                                                                                                                 \n",
       "253      \\n\\nśalaiaŕkistenai\\n\\naŕikaletesui:lakuiltuń:ke:tasinbai[---]tibani+[.]r[.]+\\n\\nśalaiaŕkiste:ikeŕ:aŕikalereian[---]+te:śalai+[.]tin\\n\\n\\n \\n\\nśalaiaŕkiste:beŕkebeśa:aŕi-\\n\\nkalereianiŕ:aŕikale:etesur:tikirsur:akiaŕko:\\n\\ntorsinkeŕe                                                                                                                                                                                                                                                                                                                                                                                                                                                                                                                  \n",
       "262     soŕike[---]\\n\\ntikobe[---]\\n\\nke++[---]\\n\\n+[..]+[---]                                                                                                                                                                                                                                                                                                                                                                                                                                                                                                                                                                                                                                                                                                     \n",
       "264        [---]nḿ[---]\\n\\n\\n  bele+[-c.3-]nar \\n\\n\\n   inti                                                                                                                                                                                                                                                                                                                                                                                                                                                                                                                                                                                                                                                                                                       \n",
       "288      \\n\\nbalkar \\n\\n\\n \\n\\naḅịḷạḳụs+istiŕ+lakea+banśako+o̲l̲a̲\\n\\naiuniltiŕte\\n\\n\\n \\n\\nṇịŕ[.]ṛ́ekoneśanṣ́ại̱t̲e̲a̲ś̲a̲k̲a̲i̱b̲a̲r̲b̲e̲\\n\\n\\n \\n\\nḅạḷ+ḳạḅạḳạ                                                                                                                                                                                                                                                                                                                                                                                                                                                                                                                                                                                 \n",
       "355     a.ko                                                                                                                                                                                                                                                                                                                                                                                                                                                                                                                                                                                                                                                                                                                                                       \n",
       "431     eteśike.ḿi                                                                                                                                                                                                                                                                                                                                                                                                                                                                                                                                                                                                                                                                                                                                                 \n",
       "806     [.]ṛ́tilakó:istikaṇiṛ:ibeŕṭạṇẹś:oŕtin+keŕ                                                                                                                                                                                                                                                                                                                                                                                                                                                                                                                                                                                                                                                                                                            \n",
       "817       kokaŕ\\n\\n  karekar:se .kí. .?f. ker:lukeśiŕ:akailtir .?f. kerai:ir++riatuiaś\\n\\n\\n\\n                                                                                                                                                                                                                                                                                                                                                                                                                                                                                                                                                                                                                                                                     \n",
       "818     A1a   ]tu[.]++aaki+[..]iitidioo[\\n\\nA1b  ]++bol\\n\\nA2a1  ]kigiúutodo[…][\\n\\nA2a2 ]ŕŕkigiúutodo+[..][\\n\\nA2b1       ]+g̲a̲++++tadaṯe̱deeek̲u̱g̲u̲[\\n\\nA2b2       ]+d̲a̲t̲a̲tedeee̲tudukug̲u̲[\\n\\n\\n                                                                                                                                                                                                                                                                                                                                                                                                                                                                                                                                                        \n",
       "820     aitur .kí. nbetiaŕka                                                                                                                                                                                                                                                                                                                                                                                                                                                                                                                                                                                                                                                                                                                                       \n",
       "821     aitur .kí. n : bitiaŕ                                                                                                                                                                                                                                                                                                                                                                                                                                                                                                                                                                                                                                                                                                                                      \n",
       "831       ]+ I I I o I I\\n\\n    ]ibeś [3] o[\\n\\n    ] I I I I .kí. I I I I [7] a[\\n\\n    ] I I I I I I I [5] an+[\\n\\n    ]aśota[\\n\\n  ]a++ I I I I I I I [4] [\\n\\n    ]iŕ [3] bi[\\n\\n    ] [5] ikoil[\\n\\n    ]a I o I    [                                                                                                                                                                                                                                                                                                                                                                                                                                                                                                                                         \n",
       "836     ati .?f. uia+iskeunir:tinkan:berśtano+ .?f. a\\n\\nś+sebatitaŕ:.?. itan+aŕ                                                                                                                                                                                                                                                                                                                                                                                                                                                                                                                                                                                                                                                                                   \n",
       "869     +LSAILACOS[ -\\n\\n- ]ELSADINI:COR[ -\\n\\nESCRAD[c.5]+[ -                                                                                                                                                                                                                                                                                                                                                                                                                                                                                                                                                                                                                                                                                                     \n",
       "884     aitikeltunki:iunśtiŕ:bekor:salbitas:otiroketa:banota .kí. an                                                                                                                                                                                                                                                                                                                                                                                                                                                                                                                                                                                                                                                                                               \n",
       "891     seltarbanḿi\\n\\nbas[ . ]beŕuneni\\n\\nbastobaśorenḿi        \\n\\n[ . ]babe[ . ]berbee\\n\\nḿi                                                                                                                                                                                                                                                                                                                                                                                                                                                                                                                                                                                                                                                                    \n",
       "943     sakaŕbeta n.ḿi.                                                                                                                                                                                                                                                                                                                                                                                                                                                                                                                                                                                                                                                                                                                                            \n",
       "951     ośortaŕbaneṉ \\n\\nsiltar.iaribeŕ \\n\\nariŕebore ṯa̲r++\\n\\n]eṣ́ab̲e̱[                                                                                                                                                                                                                                                                                                                                                                                                                                                                                                                                                                                                                                                                                       \n",
       "1015     \\n\\n[.]uŕbokon[---]+\\n\\n\\n \\n\\n:baisuka[-c.1 ó 2-]esite[---]                                                                                                                                                                                                                                                                                                                                                                                                                                                                                                                                                                                                                                                                                              \n",
       "1022    1. ]+baserté:bonantíté:nḿbaŕte:bortébara:káŕesirteekiar:banité:kaŕ[\\n\\n2. ]+irten[\\n\\n3. ]+tín+[  \\n\\n4. ]boi:ban[\\n\\n5.   ekiar \\n kaŕestabikíŕ.       \\n\\n6. ebiŕtéekíar  \\n\\n7. olekáŕkóeki\\n\\n8.   oŕotis:\\n káŕbi\\n\\n9. bébér  \\n\\n10. bélar:ban:iŕ.          \\n\\n11.   ban   iŕ\\n\\n12.   elbébébébébér   tíbiserbaśtibaa  \\n\\n13. bankutúriŕaker\\n\\n14. uŕkébas[\\n\\n15. taŕa[  \\n\\n16.   ]+banḿibae:  ]śai   ]+nboutin                                                                                                                                                                                                                                                                                                                               \n",
       "1070    [i]ltuŕka\\n\\niśkeasko\\n\\nebantibinke .XXX\\n\\ne+[\\n\\n\\n                                                                                                                                                                                                                                                                                                                                                                                                                                                                                                                                                                                                                                                                                                     \n",
       "1082    ḿskebabassba\\n\\n\\nbaisetaśiḻṯu̱taśeba[--\\n\\nnḿise̱ltarbanḿ̲i\\n\\nbeŕbeinarieukiạ             \\n\\n -]ḿikatuẹkaśkoloite.  5\\n\\nḳaŕieụḵi̱arseltarban\\n\\nṃ́ibasibalkarḿbaŕḿi                                                                                                                                                                                                                                                                                                                                                                                                                                                                                                                                                                                    \n",
       "1127    ]+:baśbane.utarḿi̱+[                                                                                                                                                                                                                                                                                                                                                                                                                                                                                                                                                                                                                                                                                                                                       \n",
       "1130      ]:tolí+k̲á̲+k̲i̱+e̲rkúsi[\\n\\n  ]:̱ tolírbitane.borkúsi̱[                                                                                                                                                                                                                                                                                                                                                                                                                                                                                                                                                                                                                                                                                                 \n",
       "1196    ]eś-nikiteikul.[\\n\\n].ES AMICV[\\n\\n]ireka[\\n\\n                                                                                                                                                                                                                                                                                                                                                                                                                                                                                                                                                                                                                                                                                                             \n",
       "1204    ].+ś̱[\\n\\n]ilun[\\n\\n                                                                                                                                                                                                                                                                                                                                                                                                                                                                                                                                                                                                                                                                                                                                       \n",
       "1601    kátúbaŕeká:sisbi.baŕkéiké:kalirike:túntiké:n \\n\\n kábielakeutárike:ursa:e*śirike erteriké \\n\\n  kaŕeśoŕieiké:istaŕ:túntiké.ne*śirs:ká \\n\\n latiorne*śirs:kátioibiistaŕbis:laŕakol \\n\\n beitóretáitór:oŕoikáśtóretáitór \\n\\n  lokáŕkíkeetán                                                                                                                                                                                                                                                                                                                                                                                                                                                                                                                 \n",
       "1801      \\n\\n eŕetị[̣̣2]areṛịṭạṛ́ạtiṣ[-----]ne- \\n\\n ŕer:bekinetaneŕs+ebiŕskaś[2]ar \\n\\n  bekinetaneŕs:ḿ seike.ḿ.ikeriti \\n\\n kokōḿ iakila:tiŕabakeśṭạịŕtiśan \\n\\n irlaurti.sa:eśkubaŕs:eleŕ:kaịṣ             5\\n\\n  bora:bitekian:keitiŕẹie[2]ẹŕ[2] \\n\\n kutuŕaŕ[2]e[                                                                                                                                                                                                                                                                                                                                                                                                                                                                                            \n",
       "1804     \\n\\n\\n  \\n\\n[---]+ska[---]\\n\\n[---]++ṭạ+koilṭụn[---]\\n\\n\\n  \\n\\n[---]+++[.]+++[.]ṃ́ba+[---]\\n\\n\\n\\n \\n\\n\\n[---]rạka\\n\\nạkoboailṭụn\\n\\n++ạ[.]rtinaba[---+]                                                                                                                                                                                                                                                                                                                                                                                                                                                                                                                                                                                        \n",
       "1805     \\n\\n1 barete:iŕe:oskaistire:tikotinte\\n\\n\\n \\n\\n1 iekate:eŕokate:ekiarḿi: banḿi:iekate[c.6-8]nite:banikate:luśiunbaker\\n\\n2 eŕokarḿi:banitekitane:niteketane:+[c.3-4]kaliḿsetane:banitekitane\\n\\n\\n \\n\\n1 eŕate:eŕokar:ḿie:oŕosubeta\\n\\n2 te:eŕokaḿi:baḿiŕer:sanḿi\\n\\n3 [c.3-5]bitebaŕḿi:akari:betainei\\n\\n4 [c.7-9]kaśiŕte:binḿi\\n\\n5 [c.2-4]+r+[c.3-5]i:toŕbos:bankite\\n\\n6 [c.2-3]nḿi:bar[c.3-5]ḿi:śeneuŕebas\\n\\n7 [c.2-4]te:ile+[c.3-5]binḿi :nie\\n\\n\\n \\n\\n1 banekie:seaŕḿebetane:[.]aŕbaḿebetane\\n\\n2 anḿkitare:nitebeta[ne:]ineŕtoo\\n\\n3 teikiŕ:iustir:basetiŕ[..]suekate\\n\\n4 lakukuse:eŕate:suŕ[.]te:bankite\\n\\n5 ka[ś]tiŕ:sikeikanśar:ker[e]iskar:+++[c.0-2]\\n\\n6 kaśtiŕte:alikikila:oŕosubeta[c.0-4]\\n\\n7 karasatiti:bitirikate:akari:ka[c.0-4]\n",
       "1807    i[u]nśtir[---]ś[---]te . biuŕaŕkiŕ:iunska+ŕ:baśtibaśbe+[\\n\\nbeukins[3+]ŕs[-]tinbirtíeŕ:kuŕs:iltiŕailtune+[+\\n\\nkaisi+[---]betarbebatetans:banauŕbesbe:śalir[+\\n\\nbananebe[---]baŕstinte:eŕatilkanebe:untaŕakaer:[+\\n\\nkai[-]e[---]ebeiŕ:te:n+bereti:lete:nauki[+     5\\n\\ni[---]uśekisn[-]ḅẹrtaski+oki[-+]nasa:uŕkéa[+\\n\\n ]+bananebe[---]+te+\\n\\n\\n                                                                                                                                                                                                                                                                                                                                                                                                       \n",
       "1811     \\n\\n[---]eịḳẹ:uiŕe:ka+[---]\\n\\n[---]:aiteŕu:teŕ[.][---]\\n\\n[---]beite:ṇịkin[---]\\n\\n[---]nikan:ḅọṣku+[---]\\n\\n[--- i]ltiŕtikaŕ:i+[---]\\n\\n\\n \\n\\n[---]+:nạḷtuṇ[---]\\n\\n[---]ḅẹ:e:baṭịṛ[---]\\n\\n[---]+n+otu[---]\\n\\n\\n \\n\\n[---][..]ś+kiṇ:uŕ+[---]\\n\\n[---][.]ko:+tunki:ne[---]\\n\\n[---][.]kiṣeḳụs:iṣai[---]\\n\\n[---][.]ku+ṣtu:nite:e[---]\\n\\n[---]kaṇḅẹike:ente[---]                                                                                                                                                                                                                                                                                                                                                             \n",
       "2050      s[-c.5-]ŕ │ baiteski │ bilosebam │ boioi[│+] balesaika │\\n\\n  bebatiŕ │ itiŕokanker[-c.3-]++++++ / m │ baika[│+]bilosebam │ boioi │baite+                                                                                                                                                                                                                                                                                                                                                                                                                                                                                                                                                                                                                \n",
       "2051      [---+]aiuki │ setibios │ baiteski │ sal[-c.2/3-]tiŕe │ te / [---+] il[-c.2/3-]e+\\n\\n│baŕkabiosbaite[-c.2/3-]ilorse\\n\\n\\n  [-c.4/5-]teibalesaika │ uŕtieiuŕ / uŕ +i+                                                                                                                                                                                                                                                                                                                                                                                                                                                                                                                                                                                      \n",
       "2107      [.]akutáneś\\n\\n\\n  [.]laśtékeŕar++                                                                                                                                                                                                                                                                                                                                                                                                                                                                                                                                                                                                                                                                                                                       \n",
       "2178    kúkutútutítibabitátatétekókotóto+leś[.]skáka++a+mnirŕbekíkium̂ḿ+                                                                                                                                                                                                                                                                                                                                                                                                                                                                                                                                                                                                                                                                                           \n",
       "2180    kúkubabitátak̲ó̲kotéte[.]t̲ú̲t̲u̲ŕutítitóto+[---]                                                                                                                                                                                                                                                                                                                                                                                                                                                                                                                                                                                                                                                                                                          \n",
       "2260    [---]u:a[...]                                                                                                                                                                                                                                                                                                                                                                                                                                                                                                                                                                                                                                                                                                                                              \n",
       "2265    tai[...]                                                                                                                                                                                                                                                                                                                                                                                                                                                                                                                                                                                                                                                                                                                                                   \n",
       "2377     \\n\\n[---]u[---]i[---]\\n\\n[---]++[-c. 3-]tilso+++śạṭịŕạ\\n\\n[---]o[-c. 2-]ṣịḷṭịḳọ+l+goloŕṭạ [---]\\n\\n[---]ṭị:ịḳọŕiskeŕ:ko[---]\\n\\n\\n \\n\\nḅạlḳẹśịŕạ\\n\\n\\n \\n\\nḅạlkeśiŕe:ạṇạbedi:iuśtir:ḅẹle[s]:g̣ẹḅẹḷẹṣẹḳẹṣạị:aśkeŕeŕḍịṛ:[.]ŕeka:\\n\\ng̣ọṭụadeŕokegon\\n\\nịḳọṛ́ḅạś:al+ŕei:oŕdi+ŕa+\\n\\nḳạlanẹiạ:asụgin                                                                                                                                                                                                                                                                                                                                                                                                                                                          \n",
       "2415    [.+]+tíbaikárḿi                                                                                                                                                                                                                                                                                                                                                                                                                                                                                                                                                                                                                                                                                                                                            \n",
       "2423    1. urtal\\n\\n2. urtal\\n\\n3. urtal\\n\\n4. urtal\\n\\n5. urtal\\n\\n6. ual\\n\\n7. eura[.]ki[---]ban\\n\\n8. urtal\\n\\n9. urtal\\n\\n10. kaetite\\n\\n11. urtal\\n\\n12. kauŕgobeŕole\\n\\n13. kaugobeŕole\\n\\n14. utal\\n\\n15. urtal\\n\\n16. baneŕbai\\n\\n17. euran̲eakurbi\\n\\n18. kunta                                                                                                                                                                                                                                                                                                                                                                                                                                                                                           \n",
       "2435    [-----]\\n\\n[---]+leuŕate[---]iŕe[---]+i[..]i[---]\\n\\n[---]+:tieibiŕ:kibatasan[-c. 2-]oŕtiṇbeŕi[---]\\n\\n[---]ṭịsbasiŕaŕebe:tieibiŕ:śalir:s[---]\\n\\n[---]sa:tilauti[.]ẹ:ḿke[-c. 2-]anbe[.]+[..]n[---]\\n\\n[-----]                                                                                                                                                                                                                                                                                                                                                                                                                                                                                                                                         \n",
       "2436    iun̲t̲i̱\\n\\nkok̲e̲ :kutuṟ́\\n\\nsiku+ike\\n\\nkan+ti+:\\n\\n[.]uṉi̱[.]\\n\\n\\nuntikot̲e̱\\n\\n+ḵo̲ḻki+\\n\\nténuṉ+                                                                                                                                                                                                                                                                                                                                                                                                                                                                                                                                                                                                                                                 \n",
       "2450    okaler / baninibaŕ / [-]tinbastaneśe / [--]++++tuka+++sar.                                                                                                                                                                                                                                                                                                                                                                                                                                                                                                                                                                                                                                                                                                 \n",
       "2469    iŕbe ogaṛ́ei[...]ẹban                                                                                                                                                                                                                                                                                                                                                                                                                                                                                                                                                                                                                                                                                                                                     \n",
       "Name: TEXTO, dtype: object"
      ]
     },
     "execution_count": 55,
     "metadata": {},
     "output_type": "execute_result"
    }
   ],
   "source": [
    "get_matches(tmp_text, '.', regex=False)"
   ]
  },
  {
   "cell_type": "code",
   "execution_count": 56,
   "metadata": {},
   "outputs": [],
   "source": [
    "# Dots in brackets seem to suggest missing characters here.\n",
    "dots_in_brackets = re.compile(r'(?<=\\[)\\.+(?=\\])')\n",
    "tmp_text = tmp_text.str.replace(dots_in_brackets, lambda m: '-' * len(m.group()))"
   ]
  },
  {
   "cell_type": "code",
   "execution_count": 57,
   "metadata": {},
   "outputs": [
    {
     "data": {
      "text/plain": [
       "264        [---]nḿ[---]\\n\\n\\n  bele+[-c.3-]nar \\n\\n\\n   inti                                                                                                                                                                                                                                                                                                                                                                                                                                                                                                                                                                                                                                                                                                       \n",
       "355     a.ko                                                                                                                                                                                                                                                                                                                                                                                                                                                                                                                                                                                                                                                                                                                                                       \n",
       "431     eteśike.ḿi                                                                                                                                                                                                                                                                                                                                                                                                                                                                                                                                                                                                                                                                                                                                                 \n",
       "817       kokaŕ\\n\\n  karekar:se .kí. .?f. ker:lukeśiŕ:akailtir .?f. kerai:ir++riatuiaś\\n\\n\\n\\n                                                                                                                                                                                                                                                                                                                                                                                                                                                                                                                                                                                                                                                                     \n",
       "820     aitur .kí. nbetiaŕka                                                                                                                                                                                                                                                                                                                                                                                                                                                                                                                                                                                                                                                                                                                                       \n",
       "821     aitur .kí. n : bitiaŕ                                                                                                                                                                                                                                                                                                                                                                                                                                                                                                                                                                                                                                                                                                                                      \n",
       "831       ]+ I I I o I I\\n\\n    ]ibeś [3] o[\\n\\n    ] I I I I .kí. I I I I [7] a[\\n\\n    ] I I I I I I I [5] an+[\\n\\n    ]aśota[\\n\\n  ]a++ I I I I I I I [4] [\\n\\n    ]iŕ [3] bi[\\n\\n    ] [5] ikoil[\\n\\n    ]a I o I    [                                                                                                                                                                                                                                                                                                                                                                                                                                                                                                                                         \n",
       "836     ati .?f. uia+iskeunir:tinkan:berśtano+ .?f. a\\n\\nś+sebatitaŕ:.?. itan+aŕ                                                                                                                                                                                                                                                                                                                                                                                                                                                                                                                                                                                                                                                                                   \n",
       "869     +LSAILACOS[ -\\n\\n- ]ELSADINI:COR[ -\\n\\nESCRAD[c.5]+[ -                                                                                                                                                                                                                                                                                                                                                                                                                                                                                                                                                                                                                                                                                                     \n",
       "884     aitikeltunki:iunśtiŕ:bekor:salbitas:otiroketa:banota .kí. an                                                                                                                                                                                                                                                                                                                                                                                                                                                                                                                                                                                                                                                                                               \n",
       "891     seltarbanḿi\\n\\nbas[ . ]beŕuneni\\n\\nbastobaśorenḿi        \\n\\n[ . ]babe[ . ]berbee\\n\\nḿi                                                                                                                                                                                                                                                                                                                                                                                                                                                                                                                                                                                                                                                                    \n",
       "943     sakaŕbeta n.ḿi.                                                                                                                                                                                                                                                                                                                                                                                                                                                                                                                                                                                                                                                                                                                                            \n",
       "951     ośortaŕbaneṉ \\n\\nsiltar.iaribeŕ \\n\\nariŕebore ṯa̲r++\\n\\n]eṣ́ab̲e̱[                                                                                                                                                                                                                                                                                                                                                                                                                                                                                                                                                                                                                                                                                       \n",
       "1015     \\n\\n[-]uŕbokon[---]+\\n\\n\\n \\n\\n:baisuka[-c.1 ó 2-]esite[---]                                                                                                                                                                                                                                                                                                                                                                                                                                                                                                                                                                                                                                                                                              \n",
       "1022    1. ]+baserté:bonantíté:nḿbaŕte:bortébara:káŕesirteekiar:banité:kaŕ[\\n\\n2. ]+irten[\\n\\n3. ]+tín+[  \\n\\n4. ]boi:ban[\\n\\n5.   ekiar \\n kaŕestabikíŕ.       \\n\\n6. ebiŕtéekíar  \\n\\n7. olekáŕkóeki\\n\\n8.   oŕotis:\\n káŕbi\\n\\n9. bébér  \\n\\n10. bélar:ban:iŕ.          \\n\\n11.   ban   iŕ\\n\\n12.   elbébébébébér   tíbiserbaśtibaa  \\n\\n13. bankutúriŕaker\\n\\n14. uŕkébas[\\n\\n15. taŕa[  \\n\\n16.   ]+banḿibae:  ]śai   ]+nboutin                                                                                                                                                                                                                                                                                                                               \n",
       "1070    [i]ltuŕka\\n\\niśkeasko\\n\\nebantibinke .XXX\\n\\ne+[\\n\\n\\n                                                                                                                                                                                                                                                                                                                                                                                                                                                                                                                                                                                                                                                                                                     \n",
       "1082    ḿskebabassba\\n\\n\\nbaisetaśiḻṯu̱taśeba[--\\n\\nnḿise̱ltarbanḿ̲i\\n\\nbeŕbeinarieukiạ             \\n\\n -]ḿikatuẹkaśkoloite.  5\\n\\nḳaŕieụḵi̱arseltarban\\n\\nṃ́ibasibalkarḿbaŕḿi                                                                                                                                                                                                                                                                                                                                                                                                                                                                                                                                                                                    \n",
       "1127    ]+:baśbane.utarḿi̱+[                                                                                                                                                                                                                                                                                                                                                                                                                                                                                                                                                                                                                                                                                                                                       \n",
       "1130      ]:tolí+k̲á̲+k̲i̱+e̲rkúsi[\\n\\n  ]:̱ tolírbitane.borkúsi̱[                                                                                                                                                                                                                                                                                                                                                                                                                                                                                                                                                                                                                                                                                                 \n",
       "1196    ]eś-nikiteikul.[\\n\\n].ES AMICV[\\n\\n]ireka[\\n\\n                                                                                                                                                                                                                                                                                                                                                                                                                                                                                                                                                                                                                                                                                                             \n",
       "1204    ].+ś̱[\\n\\n]ilun[\\n\\n                                                                                                                                                                                                                                                                                                                                                                                                                                                                                                                                                                                                                                                                                                                                       \n",
       "1601    kátúbaŕeká:sisbi.baŕkéiké:kalirike:túntiké:n \\n\\n kábielakeutárike:ursa:e*śirike erteriké \\n\\n  kaŕeśoŕieiké:istaŕ:túntiké.ne*śirs:ká \\n\\n latiorne*śirs:kátioibiistaŕbis:laŕakol \\n\\n beitóretáitór:oŕoikáśtóretáitór \\n\\n  lokáŕkíkeetán                                                                                                                                                                                                                                                                                                                                                                                                                                                                                                                 \n",
       "1801      \\n\\n eŕetị[̣̣2]areṛịṭạṛ́ạtiṣ[-----]ne- \\n\\n ŕer:bekinetaneŕs+ebiŕskaś[2]ar \\n\\n  bekinetaneŕs:ḿ seike.ḿ.ikeriti \\n\\n kokōḿ iakila:tiŕabakeśṭạịŕtiśan \\n\\n irlaurti.sa:eśkubaŕs:eleŕ:kaịṣ             5\\n\\n  bora:bitekian:keitiŕẹie[2]ẹŕ[2] \\n\\n kutuŕaŕ[2]e[                                                                                                                                                                                                                                                                                                                                                                                                                                                                                            \n",
       "1805     \\n\\n1 barete:iŕe:oskaistire:tikotinte\\n\\n\\n \\n\\n1 iekate:eŕokate:ekiarḿi: banḿi:iekate[c.6-8]nite:banikate:luśiunbaker\\n\\n2 eŕokarḿi:banitekitane:niteketane:+[c.3-4]kaliḿsetane:banitekitane\\n\\n\\n \\n\\n1 eŕate:eŕokar:ḿie:oŕosubeta\\n\\n2 te:eŕokaḿi:baḿiŕer:sanḿi\\n\\n3 [c.3-5]bitebaŕḿi:akari:betainei\\n\\n4 [c.7-9]kaśiŕte:binḿi\\n\\n5 [c.2-4]+r+[c.3-5]i:toŕbos:bankite\\n\\n6 [c.2-3]nḿi:bar[c.3-5]ḿi:śeneuŕebas\\n\\n7 [c.2-4]te:ile+[c.3-5]binḿi :nie\\n\\n\\n \\n\\n1 banekie:seaŕḿebetane:[-]aŕbaḿebetane\\n\\n2 anḿkitare:nitebeta[ne:]ineŕtoo\\n\\n3 teikiŕ:iustir:basetiŕ[--]suekate\\n\\n4 lakukuse:eŕate:suŕ[-]te:bankite\\n\\n5 ka[ś]tiŕ:sikeikanśar:ker[e]iskar:+++[c.0-2]\\n\\n6 kaśtiŕte:alikikila:oŕosubeta[c.0-4]\\n\\n7 karasatiti:bitirikate:akari:ka[c.0-4]\n",
       "1807    i[u]nśtir[---]ś[---]te . biuŕaŕkiŕ:iunska+ŕ:baśtibaśbe+[\\n\\nbeukins[3+]ŕs[-]tinbirtíeŕ:kuŕs:iltiŕailtune+[+\\n\\nkaisi+[---]betarbebatetans:banauŕbesbe:śalir[+\\n\\nbananebe[---]baŕstinte:eŕatilkanebe:untaŕakaer:[+\\n\\nkai[-]e[---]ebeiŕ:te:n+bereti:lete:nauki[+     5\\n\\ni[---]uśekisn[-]ḅẹrtaski+oki[-+]nasa:uŕkéa[+\\n\\n ]+bananebe[---]+te+\\n\\n\\n                                                                                                                                                                                                                                                                                                                                                                                                       \n",
       "2050      s[-c.5-]ŕ │ baiteski │ bilosebam │ boioi[│+] balesaika │\\n\\n  bebatiŕ │ itiŕokanker[-c.3-]++++++ / m │ baika[│+]bilosebam │ boioi │baite+                                                                                                                                                                                                                                                                                                                                                                                                                                                                                                                                                                                                                \n",
       "2051      [---+]aiuki │ setibios │ baiteski │ sal[-c.2/3-]tiŕe │ te / [---+] il[-c.2/3-]e+\\n\\n│baŕkabiosbaite[-c.2/3-]ilorse\\n\\n\\n  [-c.4/5-]teibalesaika │ uŕtieiuŕ / uŕ +i+                                                                                                                                                                                                                                                                                                                                                                                                                                                                                                                                                                                      \n",
       "2377     \\n\\n[---]u[---]i[---]\\n\\n[---]++[-c. 3-]tilso+++śạṭịŕạ\\n\\n[---]o[-c. 2-]ṣịḷṭịḳọ+l+goloŕṭạ [---]\\n\\n[---]ṭị:ịḳọŕiskeŕ:ko[---]\\n\\n\\n \\n\\nḅạlḳẹśịŕạ\\n\\n\\n \\n\\nḅạlkeśiŕe:ạṇạbedi:iuśtir:ḅẹle[s]:g̣ẹḅẹḷẹṣẹḳẹṣạị:aśkeŕeŕḍịṛ:[-]ŕeka:\\n\\ng̣ọṭụadeŕokegon\\n\\nịḳọṛ́ḅạś:al+ŕei:oŕdi+ŕa+\\n\\nḳạlanẹiạ:asụgin                                                                                                                                                                                                                                                                                                                                                                                                                                                          \n",
       "2415    [.+]+tíbaikárḿi                                                                                                                                                                                                                                                                                                                                                                                                                                                                                                                                                                                                                                                                                                                                            \n",
       "2423    1. urtal\\n\\n2. urtal\\n\\n3. urtal\\n\\n4. urtal\\n\\n5. urtal\\n\\n6. ual\\n\\n7. eura[-]ki[---]ban\\n\\n8. urtal\\n\\n9. urtal\\n\\n10. kaetite\\n\\n11. urtal\\n\\n12. kauŕgobeŕole\\n\\n13. kaugobeŕole\\n\\n14. utal\\n\\n15. urtal\\n\\n16. baneŕbai\\n\\n17. euran̲eakurbi\\n\\n18. kunta                                                                                                                                                                                                                                                                                                                                                                                                                                                                                           \n",
       "2435    [-----]\\n\\n[---]+leuŕate[---]iŕe[---]+i[--]i[---]\\n\\n[---]+:tieibiŕ:kibatasan[-c. 2-]oŕtiṇbeŕi[---]\\n\\n[---]ṭịsbasiŕaŕebe:tieibiŕ:śalir:s[---]\\n\\n[---]sa:tilauti[-]ẹ:ḿke[-c. 2-]anbe[-]+[--]n[---]\\n\\n[-----]                                                                                                                                                                                                                                                                                                                                                                                                                                                                                                                                         \n",
       "2450    okaler / baninibaŕ / [-]tinbastaneśe / [--]++++tuka+++sar.                                                                                                                                                                                                                                                                                                                                                                                                                                                                                                                                                                                                                                                                                                 \n",
       "Name: TEXTO, dtype: object"
      ]
     },
     "execution_count": 57,
     "metadata": {},
     "output_type": "execute_result"
    }
   ],
   "source": [
    "get_matches(tmp_text, '.', regex=False)"
   ]
  },
  {
   "cell_type": "code",
   "execution_count": 58,
   "metadata": {},
   "outputs": [],
   "source": [
    "# Some patterns are used for an unspecified number of missing characters.\n",
    "c_pattern = re.compile(r'\\[-*c[\\. ][\\d/\\w\\s]+\\-*]')"
   ]
  },
  {
   "cell_type": "code",
   "execution_count": 59,
   "metadata": {},
   "outputs": [],
   "source": [
    "tmp_text = tmp_text.str.replace(c_pattern, r'[---]', regex=True)"
   ]
  },
  {
   "cell_type": "code",
   "execution_count": 60,
   "metadata": {},
   "outputs": [
    {
     "data": {
      "text/plain": [
       "355     a.ko                                                                                                                                                                                                                                                                                                                                                                                                                                                                                                                                                                                                                                                                                                                                                       \n",
       "431     eteśike.ḿi                                                                                                                                                                                                                                                                                                                                                                                                                                                                                                                                                                                                                                                                                                                                                 \n",
       "817       kokaŕ\\n\\n  karekar:se .kí. .?f. ker:lukeśiŕ:akailtir .?f. kerai:ir++riatuiaś\\n\\n\\n\\n                                                                                                                                                                                                                                                                                                                                                                                                                                                                                                                                                                                                                                                                     \n",
       "820     aitur .kí. nbetiaŕka                                                                                                                                                                                                                                                                                                                                                                                                                                                                                                                                                                                                                                                                                                                                       \n",
       "821     aitur .kí. n : bitiaŕ                                                                                                                                                                                                                                                                                                                                                                                                                                                                                                                                                                                                                                                                                                                                      \n",
       "831       ]+ I I I o I I\\n\\n    ]ibeś [3] o[\\n\\n    ] I I I I .kí. I I I I [7] a[\\n\\n    ] I I I I I I I [5] an+[\\n\\n    ]aśota[\\n\\n  ]a++ I I I I I I I [4] [\\n\\n    ]iŕ [3] bi[\\n\\n    ] [5] ikoil[\\n\\n    ]a I o I    [                                                                                                                                                                                                                                                                                                                                                                                                                                                                                                                                         \n",
       "836     ati .?f. uia+iskeunir:tinkan:berśtano+ .?f. a\\n\\nś+sebatitaŕ:.?. itan+aŕ                                                                                                                                                                                                                                                                                                                                                                                                                                                                                                                                                                                                                                                                                   \n",
       "884     aitikeltunki:iunśtiŕ:bekor:salbitas:otiroketa:banota .kí. an                                                                                                                                                                                                                                                                                                                                                                                                                                                                                                                                                                                                                                                                                               \n",
       "891     seltarbanḿi\\n\\nbas[ . ]beŕuneni\\n\\nbastobaśorenḿi        \\n\\n[ . ]babe[ . ]berbee\\n\\nḿi                                                                                                                                                                                                                                                                                                                                                                                                                                                                                                                                                                                                                                                                    \n",
       "943     sakaŕbeta n.ḿi.                                                                                                                                                                                                                                                                                                                                                                                                                                                                                                                                                                                                                                                                                                                                            \n",
       "951     ośortaŕbaneṉ \\n\\nsiltar.iaribeŕ \\n\\nariŕebore ṯa̲r++\\n\\n]eṣ́ab̲e̱[                                                                                                                                                                                                                                                                                                                                                                                                                                                                                                                                                                                                                                                                                       \n",
       "1022    1. ]+baserté:bonantíté:nḿbaŕte:bortébara:káŕesirteekiar:banité:kaŕ[\\n\\n2. ]+irten[\\n\\n3. ]+tín+[  \\n\\n4. ]boi:ban[\\n\\n5.   ekiar \\n kaŕestabikíŕ.       \\n\\n6. ebiŕtéekíar  \\n\\n7. olekáŕkóeki\\n\\n8.   oŕotis:\\n káŕbi\\n\\n9. bébér  \\n\\n10. bélar:ban:iŕ.          \\n\\n11.   ban   iŕ\\n\\n12.   elbébébébébér   tíbiserbaśtibaa  \\n\\n13. bankutúriŕaker\\n\\n14. uŕkébas[\\n\\n15. taŕa[  \\n\\n16.   ]+banḿibae:  ]śai   ]+nboutin                                                                                                                                                                                                                                                                                                                               \n",
       "1070    [i]ltuŕka\\n\\niśkeasko\\n\\nebantibinke .XXX\\n\\ne+[\\n\\n\\n                                                                                                                                                                                                                                                                                                                                                                                                                                                                                                                                                                                                                                                                                                     \n",
       "1082    ḿskebabassba\\n\\n\\nbaisetaśiḻṯu̱taśeba[--\\n\\nnḿise̱ltarbanḿ̲i\\n\\nbeŕbeinarieukiạ             \\n\\n -]ḿikatuẹkaśkoloite.  5\\n\\nḳaŕieụḵi̱arseltarban\\n\\nṃ́ibasibalkarḿbaŕḿi                                                                                                                                                                                                                                                                                                                                                                                                                                                                                                                                                                                    \n",
       "1127    ]+:baśbane.utarḿi̱+[                                                                                                                                                                                                                                                                                                                                                                                                                                                                                                                                                                                                                                                                                                                                       \n",
       "1130      ]:tolí+k̲á̲+k̲i̱+e̲rkúsi[\\n\\n  ]:̱ tolírbitane.borkúsi̱[                                                                                                                                                                                                                                                                                                                                                                                                                                                                                                                                                                                                                                                                                                 \n",
       "1196    ]eś-nikiteikul.[\\n\\n].ES AMICV[\\n\\n]ireka[\\n\\n                                                                                                                                                                                                                                                                                                                                                                                                                                                                                                                                                                                                                                                                                                             \n",
       "1204    ].+ś̱[\\n\\n]ilun[\\n\\n                                                                                                                                                                                                                                                                                                                                                                                                                                                                                                                                                                                                                                                                                                                                       \n",
       "1601    kátúbaŕeká:sisbi.baŕkéiké:kalirike:túntiké:n \\n\\n kábielakeutárike:ursa:e*śirike erteriké \\n\\n  kaŕeśoŕieiké:istaŕ:túntiké.ne*śirs:ká \\n\\n latiorne*śirs:kátioibiistaŕbis:laŕakol \\n\\n beitóretáitór:oŕoikáśtóretáitór \\n\\n  lokáŕkíkeetán                                                                                                                                                                                                                                                                                                                                                                                                                                                                                                                 \n",
       "1801      \\n\\n eŕetị[̣̣2]areṛịṭạṛ́ạtiṣ[-----]ne- \\n\\n ŕer:bekinetaneŕs+ebiŕskaś[2]ar \\n\\n  bekinetaneŕs:ḿ seike.ḿ.ikeriti \\n\\n kokōḿ iakila:tiŕabakeśṭạịŕtiśan \\n\\n irlaurti.sa:eśkubaŕs:eleŕ:kaịṣ             5\\n\\n  bora:bitekian:keitiŕẹie[2]ẹŕ[2] \\n\\n kutuŕaŕ[2]e[                                                                                                                                                                                                                                                                                                                                                                                                                                                                                            \n",
       "1805     \\n\\n1 barete:iŕe:oskaistire:tikotinte\\n\\n\\n \\n\\n1 iekate:eŕokate:ekiarḿi: banḿi:iekate[c.6-8]nite:banikate:luśiunbaker\\n\\n2 eŕokarḿi:banitekitane:niteketane:+[c.3-4]kaliḿsetane:banitekitane\\n\\n\\n \\n\\n1 eŕate:eŕokar:ḿie:oŕosubeta\\n\\n2 te:eŕokaḿi:baḿiŕer:sanḿi\\n\\n3 [c.3-5]bitebaŕḿi:akari:betainei\\n\\n4 [c.7-9]kaśiŕte:binḿi\\n\\n5 [c.2-4]+r+[c.3-5]i:toŕbos:bankite\\n\\n6 [c.2-3]nḿi:bar[c.3-5]ḿi:śeneuŕebas\\n\\n7 [c.2-4]te:ile+[c.3-5]binḿi :nie\\n\\n\\n \\n\\n1 banekie:seaŕḿebetane:[-]aŕbaḿebetane\\n\\n2 anḿkitare:nitebeta[ne:]ineŕtoo\\n\\n3 teikiŕ:iustir:basetiŕ[--]suekate\\n\\n4 lakukuse:eŕate:suŕ[-]te:bankite\\n\\n5 ka[ś]tiŕ:sikeikanśar:ker[e]iskar:+++[c.0-2]\\n\\n6 kaśtiŕte:alikikila:oŕosubeta[c.0-4]\\n\\n7 karasatiti:bitirikate:akari:ka[c.0-4]\n",
       "1807    i[u]nśtir[---]ś[---]te . biuŕaŕkiŕ:iunska+ŕ:baśtibaśbe+[\\n\\nbeukins[3+]ŕs[-]tinbirtíeŕ:kuŕs:iltiŕailtune+[+\\n\\nkaisi+[---]betarbebatetans:banauŕbesbe:śalir[+\\n\\nbananebe[---]baŕstinte:eŕatilkanebe:untaŕakaer:[+\\n\\nkai[-]e[---]ebeiŕ:te:n+bereti:lete:nauki[+     5\\n\\ni[---]uśekisn[-]ḅẹrtaski+oki[-+]nasa:uŕkéa[+\\n\\n ]+bananebe[---]+te+\\n\\n\\n                                                                                                                                                                                                                                                                                                                                                                                                       \n",
       "2415    [.+]+tíbaikárḿi                                                                                                                                                                                                                                                                                                                                                                                                                                                                                                                                                                                                                                                                                                                                            \n",
       "2423    1. urtal\\n\\n2. urtal\\n\\n3. urtal\\n\\n4. urtal\\n\\n5. urtal\\n\\n6. ual\\n\\n7. eura[-]ki[---]ban\\n\\n8. urtal\\n\\n9. urtal\\n\\n10. kaetite\\n\\n11. urtal\\n\\n12. kauŕgobeŕole\\n\\n13. kaugobeŕole\\n\\n14. utal\\n\\n15. urtal\\n\\n16. baneŕbai\\n\\n17. euran̲eakurbi\\n\\n18. kunta                                                                                                                                                                                                                                                                                                                                                                                                                                                                                           \n",
       "2450    okaler / baninibaŕ / [-]tinbastaneśe / [--]++++tuka+++sar.                                                                                                                                                                                                                                                                                                                                                                                                                                                                                                                                                                                                                                                                                                 \n",
       "Name: TEXTO, dtype: object"
      ]
     },
     "execution_count": 60,
     "metadata": {},
     "output_type": "execute_result"
    }
   ],
   "source": [
    "get_matches(tmp_text, '.', regex=False)"
   ]
  },
  {
   "cell_type": "code",
   "execution_count": 61,
   "metadata": {},
   "outputs": [],
   "source": [
    "# Replace 1. and etc. with newlines -- they indicate different sections.\n",
    "tmp_text = tmp_text.str.replace(r'\\d+[\\. ]', r'\\n')"
   ]
  },
  {
   "cell_type": "code",
   "execution_count": 62,
   "metadata": {},
   "outputs": [
    {
     "data": {
      "text/plain": [
       "355     a.ko                                                                                                                                                                                                                                                                                                                                                                                                                                                                                                                                                                                                                                                                                                                                                       \n",
       "431     eteśike.ḿi                                                                                                                                                                                                                                                                                                                                                                                                                                                                                                                                                                                                                                                                                                                                                 \n",
       "817       kokaŕ\\n\\n  karekar:se .kí. .?f. ker:lukeśiŕ:akailtir .?f. kerai:ir++riatuiaś\\n\\n\\n\\n                                                                                                                                                                                                                                                                                                                                                                                                                                                                                                                                                                                                                                                                     \n",
       "820     aitur .kí. nbetiaŕka                                                                                                                                                                                                                                                                                                                                                                                                                                                                                                                                                                                                                                                                                                                                       \n",
       "821     aitur .kí. n : bitiaŕ                                                                                                                                                                                                                                                                                                                                                                                                                                                                                                                                                                                                                                                                                                                                      \n",
       "831       ]+ I I I o I I\\n\\n    ]ibeś [3] o[\\n\\n    ] I I I I .kí. I I I I [7] a[\\n\\n    ] I I I I I I I [5] an+[\\n\\n    ]aśota[\\n\\n  ]a++ I I I I I I I [4] [\\n\\n    ]iŕ [3] bi[\\n\\n    ] [5] ikoil[\\n\\n    ]a I o I    [                                                                                                                                                                                                                                                                                                                                                                                                                                                                                                                                         \n",
       "836     ati .?f. uia+iskeunir:tinkan:berśtano+ .?f. a\\n\\nś+sebatitaŕ:.?. itan+aŕ                                                                                                                                                                                                                                                                                                                                                                                                                                                                                                                                                                                                                                                                                   \n",
       "884     aitikeltunki:iunśtiŕ:bekor:salbitas:otiroketa:banota .kí. an                                                                                                                                                                                                                                                                                                                                                                                                                                                                                                                                                                                                                                                                                               \n",
       "891     seltarbanḿi\\n\\nbas[ . ]beŕuneni\\n\\nbastobaśorenḿi        \\n\\n[ . ]babe[ . ]berbee\\n\\nḿi                                                                                                                                                                                                                                                                                                                                                                                                                                                                                                                                                                                                                                                                    \n",
       "943     sakaŕbeta n.ḿi.                                                                                                                                                                                                                                                                                                                                                                                                                                                                                                                                                                                                                                                                                                                                            \n",
       "951     ośortaŕbaneṉ \\n\\nsiltar.iaribeŕ \\n\\nariŕebore ṯa̲r++\\n\\n]eṣ́ab̲e̱[                                                                                                                                                                                                                                                                                                                                                                                                                                                                                                                                                                                                                                                                                       \n",
       "1022    \\n ]+baserté:bonantíté:nḿbaŕte:bortébara:káŕesirteekiar:banité:kaŕ[\\n\\n\\n ]+irten[\\n\\n\\n ]+tín+[  \\n\\n\\n ]boi:ban[\\n\\n\\n   ekiar \\n kaŕestabikíŕ.       \\n\\n\\n ebiŕtéekíar  \\n\\n\\n olekáŕkóeki\\n\\n\\n   oŕotis:\\n káŕbi\\n\\n\\n bébér  \\n\\n\\n bélar:ban:iŕ.          \\n\\n\\n   ban   iŕ\\n\\n\\n   elbébébébébér   tíbiserbaśtibaa  \\n\\n\\n bankutúriŕaker\\n\\n\\n uŕkébas[\\n\\n\\n taŕa[  \\n\\n\\n   ]+banḿibae:  ]śai   ]+nboutin                                                                                                                                                                                                                                                                                                                                      \n",
       "1070    [i]ltuŕka\\n\\niśkeasko\\n\\nebantibinke .XXX\\n\\ne+[\\n\\n\\n                                                                                                                                                                                                                                                                                                                                                                                                                                                                                                                                                                                                                                                                                                     \n",
       "1082    ḿskebabassba\\n\\n\\nbaisetaśiḻṯu̱taśeba[--\\n\\nnḿise̱ltarbanḿ̲i\\n\\nbeŕbeinarieukiạ             \\n\\n -]ḿikatuẹkaśkoloite.  5\\n\\nḳaŕieụḵi̱arseltarban\\n\\nṃ́ibasibalkarḿbaŕḿi                                                                                                                                                                                                                                                                                                                                                                                                                                                                                                                                                                                    \n",
       "1127    ]+:baśbane.utarḿi̱+[                                                                                                                                                                                                                                                                                                                                                                                                                                                                                                                                                                                                                                                                                                                                       \n",
       "1130      ]:tolí+k̲á̲+k̲i̱+e̲rkúsi[\\n\\n  ]:̱ tolírbitane.borkúsi̱[                                                                                                                                                                                                                                                                                                                                                                                                                                                                                                                                                                                                                                                                                                 \n",
       "1196    ]eś-nikiteikul.[\\n\\n].ES AMICV[\\n\\n]ireka[\\n\\n                                                                                                                                                                                                                                                                                                                                                                                                                                                                                                                                                                                                                                                                                                             \n",
       "1204    ].+ś̱[\\n\\n]ilun[\\n\\n                                                                                                                                                                                                                                                                                                                                                                                                                                                                                                                                                                                                                                                                                                                                       \n",
       "1601    kátúbaŕeká:sisbi.baŕkéiké:kalirike:túntiké:n \\n\\n kábielakeutárike:ursa:e*śirike erteriké \\n\\n  kaŕeśoŕieiké:istaŕ:túntiké.ne*śirs:ká \\n\\n latiorne*śirs:kátioibiistaŕbis:laŕakol \\n\\n beitóretáitór:oŕoikáśtóretáitór \\n\\n  lokáŕkíkeetán                                                                                                                                                                                                                                                                                                                                                                                                                                                                                                                 \n",
       "1801      \\n\\n eŕetị[̣̣2]areṛịṭạṛ́ạtiṣ[-----]ne- \\n\\n ŕer:bekinetaneŕs+ebiŕskaś[2]ar \\n\\n  bekinetaneŕs:ḿ seike.ḿ.ikeriti \\n\\n kokōḿ iakila:tiŕabakeśṭạịŕtiśan \\n\\n irlaurti.sa:eśkubaŕs:eleŕ:kaịṣ             5\\n\\n  bora:bitekian:keitiŕẹie[2]ẹŕ[2] \\n\\n kutuŕaŕ[2]e[                                                                                                                                                                                                                                                                                                                                                                                                                                                                                            \n",
       "1805     \\n\\n\\nbarete:iŕe:oskaistire:tikotinte\\n\\n\\n \\n\\n\\niekate:eŕokate:ekiarḿi: banḿi:iekate[c.6-8]nite:banikate:luśiunbaker\\n\\n\\neŕokarḿi:banitekitane:niteketane:+[c.3-4]kaliḿsetane:banitekitane\\n\\n\\n \\n\\n\\neŕate:eŕokar:ḿie:oŕosubeta\\n\\n\\nte:eŕokaḿi:baḿiŕer:sanḿi\\n\\n\\n[c.3-5]bitebaŕḿi:akari:betainei\\n\\n\\n[c.7-9]kaśiŕte:binḿi\\n\\n\\n[c.2-4]+r+[c.3-5]i:toŕbos:bankite\\n\\n\\n[c.2-3]nḿi:bar[c.3-5]ḿi:śeneuŕebas\\n\\n\\n[c.2-4]te:ile+[c.3-5]binḿi :nie\\n\\n\\n \\n\\n\\nbanekie:seaŕḿebetane:[-]aŕbaḿebetane\\n\\n\\nanḿkitare:nitebeta[ne:]ineŕtoo\\n\\n\\nteikiŕ:iustir:basetiŕ[--]suekate\\n\\n\\nlakukuse:eŕate:suŕ[-]te:bankite\\n\\n\\nka[ś]tiŕ:sikeikanśar:ker[e]iskar:+++[c.0-2]\\n\\n\\nkaśtiŕte:alikikila:oŕosubeta[c.0-4]\\n\\n\\nkarasatiti:bitirikate:akari:ka[c.0-4]\n",
       "1807    i[u]nśtir[---]ś[---]te . biuŕaŕkiŕ:iunska+ŕ:baśtibaśbe+[\\n\\nbeukins[3+]ŕs[-]tinbirtíeŕ:kuŕs:iltiŕailtune+[+\\n\\nkaisi+[---]betarbebatetans:banauŕbesbe:śalir[+\\n\\nbananebe[---]baŕstinte:eŕatilkanebe:untaŕakaer:[+\\n\\nkai[-]e[---]ebeiŕ:te:n+bereti:lete:nauki[+     5\\n\\ni[---]uśekisn[-]ḅẹrtaski+oki[-+]nasa:uŕkéa[+\\n\\n ]+bananebe[---]+te+\\n\\n\\n                                                                                                                                                                                                                                                                                                                                                                                                       \n",
       "2415    [.+]+tíbaikárḿi                                                                                                                                                                                                                                                                                                                                                                                                                                                                                                                                                                                                                                                                                                                                            \n",
       "2450    okaler / baninibaŕ / [-]tinbastaneśe / [--]++++tuka+++sar.                                                                                                                                                                                                                                                                                                                                                                                                                                                                                                                                                                                                                                                                                                 \n",
       "Name: TEXTO, dtype: object"
      ]
     },
     "execution_count": 62,
     "metadata": {},
     "output_type": "execute_result"
    }
   ],
   "source": [
    "get_matches(tmp_text, '.', regex=False)"
   ]
  },
  {
   "cell_type": "code",
   "execution_count": 63,
   "metadata": {},
   "outputs": [],
   "source": [
    "# Not sure what the remaining dots are for, but they are mostly isolated. I'm removing them.\n",
    "tmp_text = tmp_text.str.replace(\".\", '', regex=False)"
   ]
  },
  {
   "cell_type": "code",
   "execution_count": 64,
   "metadata": {},
   "outputs": [
    {
     "name": "stdout",
     "output_type": "stream",
     "text": [
      "\n",
      " *+,-/0123456789:<>?ABCDEFHIJLMNOQRSTVWXY[\\]_abcdefgiklmnorstuv{}©·áéíóúńōŕś̵̠̣̱̲́̂ΑΔΕΙΚΛΝΠΩḅḇḍḳḵḷḻḿṁṃṇṉṛṟṣṭṯạẹịọụ‐’‡…∙│𐘃\n"
     ]
    }
   ],
   "source": [
    "iberico['tmp_text'] = tmp_text\n",
    "cs = count(tmp_text)"
   ]
  },
  {
   "cell_type": "markdown",
   "metadata": {},
   "source": [
    "### Deal with brackets."
   ]
  },
  {
   "cell_type": "code",
   "execution_count": 65,
   "metadata": {},
   "outputs": [],
   "source": [
    "pattern_bracket = re.compile(r'\\[.*?\\]')"
   ]
  },
  {
   "cell_type": "code",
   "execution_count": 66,
   "metadata": {},
   "outputs": [
    {
     "data": {
      "text/plain": [
       "{'[  //  ]',\n",
       " '[  o  ]',\n",
       " '[ 5]',\n",
       " '[--- i]',\n",
       " '[--- s]',\n",
       " '[--- śal]',\n",
       " '[--------------------------------------------------]',\n",
       " '[----------------------]',\n",
       " '[------------------]',\n",
       " '[---------------]',\n",
       " '[-----------]',\n",
       " '[--------]',\n",
       " '[-------]',\n",
       " '[------]',\n",
       " '[-----]',\n",
       " '[----]',\n",
       " '[---]',\n",
       " '[--/]',\n",
       " '[--]',\n",
       " '[-]',\n",
       " '[1-2]',\n",
       " '[1]',\n",
       " '[2-3]',\n",
       " '[2]',\n",
       " '[3+]',\n",
       " '[3/4]',\n",
       " '[3]',\n",
       " '[4]',\n",
       " '[5]',\n",
       " '[7]',\n",
       " '[:+]',\n",
       " '[IIII]',\n",
       " '[I]',\n",
       " '[VS, -A ---]',\n",
       " '[a]',\n",
       " '[ar]',\n",
       " '[ba]',\n",
       " '[bakaś]',\n",
       " '[be]',\n",
       " '[bo]',\n",
       " '[c0-2]',\n",
       " '[c0-4]',\n",
       " '[c2-3]',\n",
       " '[c2-4]',\n",
       " '[c3-4]',\n",
       " '[c3-5]',\n",
       " '[c6-8]',\n",
       " '[c7-9]',\n",
       " '[c7]',\n",
       " '[e+]',\n",
       " '[e]',\n",
       " '[i]',\n",
       " '[leitaŕtin]',\n",
       " '[ltun]',\n",
       " '[n]',\n",
       " '[ne:]',\n",
       " '[ne]',\n",
       " '[r-]',\n",
       " '[s]',\n",
       " '[sa]',\n",
       " '[te]',\n",
       " '[ti]',\n",
       " '[tiri]',\n",
       " '[u]',\n",
       " '[ŕte]',\n",
       " '[ŕtin]',\n",
       " '[ś ---]',\n",
       " '[ś]',\n",
       " '[śale]',\n",
       " '[̣--]',\n",
       " '[̣̣2]',\n",
       " '[‐‐‐]',\n",
       " '[…]',\n",
       " '[│+]'}"
      ]
     },
     "execution_count": 66,
     "metadata": {},
     "output_type": "execute_result"
    }
   ],
   "source": [
    "# If brackets contain only whitespaces and hyphens, convert all to hyphens.\n",
    "tmp_text = tmp_text.str.replace(r'(?<=\\[)[ \\-+]+?(?=\\])', lambda m: '-' * len(m.group()))\n",
    "get_matches_as_set(tmp_text, pattern_bracket)"
   ]
  },
  {
   "cell_type": "code",
   "execution_count": 67,
   "metadata": {},
   "outputs": [
    {
     "data": {
      "text/plain": [
       "{'[  //  ]',\n",
       " '[  o  ]',\n",
       " '[ 5]',\n",
       " '[--- i]',\n",
       " '[--- s]',\n",
       " '[--- śal]',\n",
       " '[--------------------------------------------------]',\n",
       " '[----------------------]',\n",
       " '[------------------]',\n",
       " '[---------------]',\n",
       " '[-----------]',\n",
       " '[--------]',\n",
       " '[-------]',\n",
       " '[------]',\n",
       " '[-----]',\n",
       " '[----]',\n",
       " '[---]',\n",
       " '[--/]',\n",
       " '[--]',\n",
       " '[-]',\n",
       " '[1-2]',\n",
       " '[1]',\n",
       " '[2-3]',\n",
       " '[2]',\n",
       " '[3+]',\n",
       " '[3/4]',\n",
       " '[3]',\n",
       " '[4]',\n",
       " '[5]',\n",
       " '[7]',\n",
       " '[:+]',\n",
       " '[IIII]',\n",
       " '[I]',\n",
       " '[VS, -A ---]',\n",
       " '[a]',\n",
       " '[ar]',\n",
       " '[ba]',\n",
       " '[bakaś]',\n",
       " '[be]',\n",
       " '[bo]',\n",
       " '[c0-2]',\n",
       " '[c0-4]',\n",
       " '[c2-3]',\n",
       " '[c2-4]',\n",
       " '[c3-4]',\n",
       " '[c3-5]',\n",
       " '[c6-8]',\n",
       " '[c7-9]',\n",
       " '[c7]',\n",
       " '[e+]',\n",
       " '[e]',\n",
       " '[i]',\n",
       " '[leitaŕtin]',\n",
       " '[ltun]',\n",
       " '[n]',\n",
       " '[ne:]',\n",
       " '[ne]',\n",
       " '[r-]',\n",
       " '[s]',\n",
       " '[sa]',\n",
       " '[te]',\n",
       " '[ti]',\n",
       " '[tiri]',\n",
       " '[u]',\n",
       " '[ŕte]',\n",
       " '[ŕtin]',\n",
       " '[ś ---]',\n",
       " '[ś]',\n",
       " '[śale]',\n",
       " '[̣--]',\n",
       " '[̣̣2]',\n",
       " '[‐‐‐]',\n",
       " '[…]',\n",
       " '[│+]'}"
      ]
     },
     "execution_count": 67,
     "metadata": {},
     "output_type": "execute_result"
    }
   ],
   "source": [
    "get_matches_as_set(tmp_text, pattern_bracket)"
   ]
  },
  {
   "cell_type": "code",
   "execution_count": 68,
   "metadata": {},
   "outputs": [],
   "source": [
    "# If the brackets only contain normal characters, it means they are reconstructed. Restore reconstructed letters.\n",
    "tmp_text = tmp_text.str.replace(r'\\[([a-zŕśḷ]+)\\]', r'\\1')"
   ]
  },
  {
   "cell_type": "code",
   "execution_count": 69,
   "metadata": {},
   "outputs": [
    {
     "data": {
      "text/plain": [
       "{'[  //  ]',\n",
       " '[  o  ]',\n",
       " '[ 5]',\n",
       " '[--- i]',\n",
       " '[--- s]',\n",
       " '[--- śal]',\n",
       " '[--------------------------------------------------]',\n",
       " '[----------------------]',\n",
       " '[------------------]',\n",
       " '[---------------]',\n",
       " '[-----------]',\n",
       " '[--------]',\n",
       " '[-------]',\n",
       " '[------]',\n",
       " '[-----]',\n",
       " '[----]',\n",
       " '[---]',\n",
       " '[--/]',\n",
       " '[--]',\n",
       " '[-]',\n",
       " '[1-2]',\n",
       " '[1]',\n",
       " '[2-3]',\n",
       " '[2]',\n",
       " '[3+]',\n",
       " '[3/4]',\n",
       " '[3]',\n",
       " '[4]',\n",
       " '[5]',\n",
       " '[7]',\n",
       " '[:+]',\n",
       " '[IIII]',\n",
       " '[I]',\n",
       " '[VS, -A ---]',\n",
       " '[c0-2]',\n",
       " '[c0-4]',\n",
       " '[c2-3]',\n",
       " '[c2-4]',\n",
       " '[c3-4]',\n",
       " '[c3-5]',\n",
       " '[c6-8]',\n",
       " '[c7-9]',\n",
       " '[c7]',\n",
       " '[e+]',\n",
       " '[ne:]',\n",
       " '[r-]',\n",
       " '[ś ---]',\n",
       " '[̣--]',\n",
       " '[̣̣2]',\n",
       " '[‐‐‐]',\n",
       " '[…]',\n",
       " '[│+]'}"
      ]
     },
     "execution_count": 69,
     "metadata": {},
     "output_type": "execute_result"
    }
   ],
   "source": [
    "get_matches_as_set(tmp_text, pattern_bracket)"
   ]
  },
  {
   "cell_type": "code",
   "execution_count": 70,
   "metadata": {},
   "outputs": [],
   "source": [
    "# This is one case of weird digit.\n",
    "tmp_text = tmp_text.str.replace('[̣̣2]', '[2]', regex=False)"
   ]
  },
  {
   "cell_type": "code",
   "execution_count": 71,
   "metadata": {},
   "outputs": [],
   "source": [
    "# Brackets with digits in them mean different number of missing characters.\n",
    "pattern_digit = r'\\[[\\w\\d\\-\\/\\+ ]*\\d+[\\w\\d\\-\\/\\+ ]*\\]'"
   ]
  },
  {
   "cell_type": "code",
   "execution_count": 72,
   "metadata": {},
   "outputs": [],
   "source": [
    "def replace_as_hyphens(m):\n",
    "    g = m.group()\n",
    "    max_num = 0\n",
    "    for c in g:\n",
    "        try:\n",
    "            c = int(c)\n",
    "            max_num = max(max_num, c)\n",
    "        except ValueError:\n",
    "            pass\n",
    "    return '-' * max_num"
   ]
  },
  {
   "cell_type": "code",
   "execution_count": 73,
   "metadata": {},
   "outputs": [
    {
     "data": {
      "text/plain": [
       "{'[  //  ]',\n",
       " '[  o  ]',\n",
       " '[--- i]',\n",
       " '[--- s]',\n",
       " '[--- śal]',\n",
       " '[--------------------------------------------------]',\n",
       " '[----------------------]',\n",
       " '[------------------]',\n",
       " '[---------------]',\n",
       " '[-----------]',\n",
       " '[--------]',\n",
       " '[-------]',\n",
       " '[------]',\n",
       " '[-----]',\n",
       " '[----]',\n",
       " '[---]',\n",
       " '[--/]',\n",
       " '[--]',\n",
       " '[-]',\n",
       " '[:+]',\n",
       " '[IIII]',\n",
       " '[I]',\n",
       " '[VS, -A ---]',\n",
       " '[e+]',\n",
       " '[ne:]',\n",
       " '[r-]',\n",
       " '[ś ---]',\n",
       " '[̣--]',\n",
       " '[‐‐‐]',\n",
       " '[…]',\n",
       " '[│+]'}"
      ]
     },
     "execution_count": 73,
     "metadata": {},
     "output_type": "execute_result"
    }
   ],
   "source": [
    "tmp_text = tmp_text.str.replace(pattern_digit, replace_as_hyphens)\n",
    "get_matches_as_set(tmp_text, pattern_bracket)"
   ]
  },
  {
   "cell_type": "code",
   "execution_count": 74,
   "metadata": {},
   "outputs": [],
   "source": [
    "# If there are more than three hyphens, reduce them to three instead -- they significant an unspecified number of missing characters.\n",
    "tmp_text = tmp_text.str.replace(r'\\[----+\\]', r'[---]')"
   ]
  },
  {
   "cell_type": "code",
   "execution_count": 75,
   "metadata": {},
   "outputs": [],
   "source": [
    "# If the brackets contain some normal characters, it means they are probably reconstructed. Restore reconstructed letters.\n",
    "tmp_text = tmp_text.str.replace(r'\\[([:\\+,\\-a-zA-Zŕśḷ̣ ]+)\\]', r'\\1')"
   ]
  },
  {
   "cell_type": "code",
   "execution_count": 76,
   "metadata": {},
   "outputs": [
    {
     "data": {
      "text/plain": [
       "{'[  //  ]', '[--/]', '[‐‐‐]', '[…]', '[│+]'}"
      ]
     },
     "execution_count": 76,
     "metadata": {},
     "output_type": "execute_result"
    }
   ],
   "source": [
    "get_matches_as_set(tmp_text, pattern_bracket)"
   ]
  },
  {
   "cell_type": "code",
   "execution_count": 77,
   "metadata": {},
   "outputs": [
    {
     "data": {
      "text/plain": [
       "2050      s---ŕ │ baiteski │ bilosebam │ boioi[│+] balesaika │\\n\\n  bebatiŕ │ itiŕokanker---++++++ / m │ baika[│+]bilosebam │ boioi │baite+\n",
       "Name: TEXTO, dtype: object"
      ]
     },
     "execution_count": 77,
     "metadata": {},
     "output_type": "execute_result"
    }
   ],
   "source": [
    "# This looks like segmenters.\n",
    "get_matches(tmp_text, '[│+]', regex=False)"
   ]
  },
  {
   "cell_type": "code",
   "execution_count": 78,
   "metadata": {},
   "outputs": [],
   "source": [
    "tmp_text = tmp_text.str.replace('[│+]', ':', regex=False)"
   ]
  },
  {
   "cell_type": "code",
   "execution_count": 79,
   "metadata": {},
   "outputs": [],
   "source": [
    "# Probably just hyphens.\n",
    "tmp_text = tmp_text.str.replace('[…]', '[---]', regex=False)"
   ]
  },
  {
   "cell_type": "code",
   "execution_count": 80,
   "metadata": {},
   "outputs": [
    {
     "data": {
      "text/plain": [
       "{'[  //  ]', '[---]', '[--/]', '[‐‐‐]'}"
      ]
     },
     "execution_count": 80,
     "metadata": {},
     "output_type": "execute_result"
    }
   ],
   "source": [
    "get_matches_as_set(tmp_text, pattern_bracket)"
   ]
  },
  {
   "cell_type": "code",
   "execution_count": 81,
   "metadata": {},
   "outputs": [],
   "source": [
    "# Remove the remaining brackets\n",
    "tmp_text = tmp_text.str.replace(r'[\\[\\]]', '')"
   ]
  },
  {
   "cell_type": "markdown",
   "metadata": {},
   "source": [
    "### Replace / with newlines."
   ]
  },
  {
   "cell_type": "code",
   "execution_count": 82,
   "metadata": {},
   "outputs": [],
   "source": [
    "tmp_text = tmp_text.str.replace(\"/\", '\\n')"
   ]
  },
  {
   "cell_type": "code",
   "execution_count": 83,
   "metadata": {},
   "outputs": [
    {
     "data": {
      "text/plain": [
       "set()"
      ]
     },
     "execution_count": 83,
     "metadata": {},
     "output_type": "execute_result"
    }
   ],
   "source": [
    "get_matches_as_set(tmp_text, pattern_bracket)"
   ]
  },
  {
   "cell_type": "code",
   "execution_count": 84,
   "metadata": {},
   "outputs": [],
   "source": [
    "iberico['tmp_text'] = tmp_text"
   ]
  },
  {
   "cell_type": "code",
   "execution_count": 85,
   "metadata": {},
   "outputs": [
    {
     "name": "stdout",
     "output_type": "stream",
     "text": [
      "['\\n', ' ', '*', '+', ',', '-', '0', '1', '2', '3', '4', '5', ':', '<', '>', '?', 'A', 'B', 'C', 'D', 'E', 'F', 'H', 'I', 'J', 'L', 'M', 'N', 'O', 'Q', 'R', 'S', 'T', 'V', 'W', 'X', 'Y', '\\\\', '_', 'a', 'b', 'c', 'd', 'e', 'f', 'g', 'i', 'k', 'l', 'm', 'n', 'o', 'r', 's', 't', 'u', 'v', '{', '}', '©', '·', 'á', 'é', 'í', 'ó', 'ú', 'ń', 'ō', 'ŕ', 'ś', '́', '̂', '̠', '̣', '̱', '̲', '̵', 'Α', 'Δ', 'Ε', 'Ι', 'Κ', 'Λ', 'Ν', 'Π', 'Ω', 'ḅ', 'ḇ', 'ḍ', 'ḳ', 'ḵ', 'ḷ', 'ḻ', 'ḿ', 'ṁ', 'ṃ', 'ṇ', 'ṉ', 'ṛ', 'ṟ', 'ṣ', 'ṭ', 'ṯ', 'ạ', 'ẹ', 'ị', 'ọ', 'ụ', '‐', '’', '‡', '∙', '│', '𐘃']\n"
     ]
    }
   ],
   "source": [
    "cs = count(tmp_text, as_list=True)"
   ]
  },
  {
   "cell_type": "markdown",
   "metadata": {},
   "source": [
    "### Get rid of weird and annoying takens."
   ]
  },
  {
   "cell_type": "code",
   "execution_count": 86,
   "metadata": {},
   "outputs": [
    {
     "data": {
      "text/plain": [
       "1673    kítá+\\n\\n_______\\n\\n\\nbaśons\\n\\nikasors\\n\\n_______\\n\\n       ++\n",
       "Name: TEXTO, dtype: object"
      ]
     },
     "execution_count": 86,
     "metadata": {},
     "output_type": "execute_result"
    }
   ],
   "source": [
    "get_matches(tmp_text, '_')"
   ]
  },
  {
   "cell_type": "code",
   "execution_count": 87,
   "metadata": {},
   "outputs": [],
   "source": [
    "# They are probably just whitespaces.\n",
    "tmp_text = tmp_text.str.replace('_', ' ', regex=False)"
   ]
  },
  {
   "cell_type": "code",
   "execution_count": 88,
   "metadata": {},
   "outputs": [
    {
     "data": {
      "text/plain": [
       "72      ------\\n\\n---+++ke---\\n\\n---inti · tan+---\\n\\n---+ke · koŕnel+---\\n\\n---ite · ika+---\\n\\n--- · s---\\n\\n------\n",
       "210     aŕe · take \\n\\natinbelauŕ · antalskar\\n\\nFVLVIA · LINTEARIA                                                  \n",
       "211     ------+\\n\\nHEIC · EST · SITVS, -A ---\\n\\naŕe · +ki · ar++---\\n\\nsakaŕil+---                                  \n",
       "1526    t̲o̲uko · ++                                                                                                 \n",
       "1538    śunuke · +                                                                                                   \n",
       "1739    okale · baḿiban · nelai                                                                                      \n",
       "2027    eluŕaite · bas · uḿmiser                                                                                     \n",
       "Name: TEXTO, dtype: object"
      ]
     },
     "execution_count": 88,
     "metadata": {},
     "output_type": "execute_result"
    }
   ],
   "source": [
    "get_matches(tmp_text, '·')"
   ]
  },
  {
   "cell_type": "code",
   "execution_count": 89,
   "metadata": {},
   "outputs": [],
   "source": [
    "# They are likely segmenters.\n",
    "tmp_text = tmp_text.str.replace('·', ':')"
   ]
  },
  {
   "cell_type": "code",
   "execution_count": 90,
   "metadata": {},
   "outputs": [],
   "source": [
    "# We ignore all the other diacritics. Acute accents are meaningful in Iberian, therefore not removed.\n",
    "mapping = {\n",
    "    'ḅ': 'b',\n",
    "    'ḇ': 'b',\n",
    "    'ḍ': 'd',\n",
    "    'ḳ': 'k',\n",
    "    'ḵ': 'k',\n",
    "    'ḷ': 'l',\n",
    "    'ḻ': 'l',\n",
    "    'ṁ': 'm',\n",
    "    'ṃ': 'm',\n",
    "    'ṇ': 'n',\n",
    "    'ṉ': 'n',\n",
    "    'ṛ': 'r',\n",
    "    'ṟ': 'r',\n",
    "    'ṣ': 's',\n",
    "    'ṭ': 't',\n",
    "    'ṯ': 't',\n",
    "    'ạ': 'a',\n",
    "    'ẹ': 'e',\n",
    "    'ị': 'i',\n",
    "    'ọ': 'o',\n",
    "    'ụ': 'u'\n",
    "}"
   ]
  },
  {
   "cell_type": "code",
   "execution_count": 91,
   "metadata": {},
   "outputs": [],
   "source": [
    "for old, new in mapping.items():\n",
    "    tmp_text = tmp_text.str.replace(old, new)"
   ]
  },
  {
   "cell_type": "code",
   "execution_count": 92,
   "metadata": {},
   "outputs": [
    {
     "name": "stdout",
     "output_type": "stream",
     "text": [
      "['\\n', ' ', '*', '+', ',', '-', '0', '1', '2', '3', '4', '5', ':', '<', '>', '?', 'A', 'B', 'C', 'D', 'E', 'F', 'H', 'I', 'J', 'L', 'M', 'N', 'O', 'Q', 'R', 'S', 'T', 'V', 'W', 'X', 'Y', '\\\\', 'a', 'b', 'c', 'd', 'e', 'f', 'g', 'i', 'k', 'l', 'm', 'n', 'o', 'r', 's', 't', 'u', 'v', '{', '}', '©', 'á', 'é', 'í', 'ó', 'ú', 'ń', 'ō', 'ŕ', 'ś', '́', '̂', '̠', '̣', '̱', '̲', '̵', 'Α', 'Δ', 'Ε', 'Ι', 'Κ', 'Λ', 'Ν', 'Π', 'Ω', 'ḿ', '‐', '’', '‡', '∙', '│', '𐘃']\n"
     ]
    }
   ],
   "source": [
    "cs = count(tmp_text, as_list=True)"
   ]
  },
  {
   "cell_type": "code",
   "execution_count": 93,
   "metadata": {},
   "outputs": [],
   "source": [
    "# Some remaining isolated diacritics.\n",
    "for c in ['̠', '̣', '̱', '̲']:\n",
    "    tmp_text = tmp_text.str.replace(c, '')"
   ]
  },
  {
   "cell_type": "code",
   "execution_count": 94,
   "metadata": {},
   "outputs": [],
   "source": [
    "# Some acute accents are not combining with characters.\n",
    "tmp_text = tmp_text.str.replace('s' + '́', 'ś').str.replace('r' + '́', 'ŕ').str.replace('m' + '́', 'ḿ')"
   ]
  },
  {
   "cell_type": "code",
   "execution_count": 95,
   "metadata": {},
   "outputs": [
    {
     "name": "stdout",
     "output_type": "stream",
     "text": [
      "['\\n', ' ', '*', '+', ',', '-', '0', '1', '2', '3', '4', '5', ':', '<', '>', '?', 'A', 'B', 'C', 'D', 'E', 'F', 'H', 'I', 'J', 'L', 'M', 'N', 'O', 'Q', 'R', 'S', 'T', 'V', 'W', 'X', 'Y', '\\\\', 'a', 'b', 'c', 'd', 'e', 'f', 'g', 'i', 'k', 'l', 'm', 'n', 'o', 'r', 's', 't', 'u', 'v', '{', '}', '©', 'á', 'é', 'í', 'ó', 'ú', 'ń', 'ō', 'ŕ', 'ś', '̂', '̵', 'Α', 'Δ', 'Ε', 'Ι', 'Κ', 'Λ', 'Ν', 'Π', 'Ω', 'ḿ', '‐', '’', '‡', '∙', '│', '𐘃']\n"
     ]
    }
   ],
   "source": [
    "cs = count(tmp_text, as_list=True)"
   ]
  },
  {
   "cell_type": "code",
   "execution_count": 96,
   "metadata": {},
   "outputs": [],
   "source": [
    "iberico['tmp_text'] = tmp_text"
   ]
  },
  {
   "cell_type": "markdown",
   "metadata": {},
   "source": [
    "### Continue dealing with some weird tokens."
   ]
  },
  {
   "cell_type": "code",
   "execution_count": 97,
   "metadata": {},
   "outputs": [
    {
     "data": {
      "text/plain": [
       "2050      s---ŕ │ baiteski │ bilosebam │ boioi: balesaika │\\n\\n  bebatiŕ │ itiŕokanker---++++++ \\n m │ baika:bilosebam │ boioi │baite+           \n",
       "2051      ---aiuki │ setibios │ baiteski │ sal---tiŕe │ te \\n --- il---e+\\n\\n│baŕkabiosbaite---ilorse\\n\\n\\n  ---teibalesaika │ uŕtieiuŕ \\n uŕ +i+\n",
       "Name: TEXTO, dtype: object"
      ]
     },
     "execution_count": 97,
     "metadata": {},
     "output_type": "execute_result"
    }
   ],
   "source": [
    "get_matches(tmp_text, '│')"
   ]
  },
  {
   "cell_type": "code",
   "execution_count": 98,
   "metadata": {},
   "outputs": [],
   "source": [
    "tmp_text = tmp_text.str.replace('│', ':')"
   ]
  },
  {
   "cell_type": "code",
   "execution_count": 99,
   "metadata": {},
   "outputs": [
    {
     "data": {
      "text/plain": [
       "310      \\n\\nśebiŕin:taubaśtetaś\\n\\ntintileis:bantubailkunḿi\\n\\narbais:neban:kuniŕ                                  \\n\\nbantaśkalir:belśtaukui:aurelen\\n\\n I̵̵I̵I̵ I kekeerirtiban:kuteŕnaniśil                        5\\n\\nbeŕenultiteś:kitei:autiriśa                           \\n\\nnbali:toroś:balaukiakiŕe\\n\\nabarbaśtanie:sonai\\n\\niumabeleś:talkuneu                                    \\n\\n\\n  \\n\\nbaskiteierinuie\n",
       "Name: TEXTO, dtype: object"
      ]
     },
     "execution_count": 99,
     "metadata": {},
     "output_type": "execute_result"
    }
   ],
   "source": [
    "get_matches(tmp_text, '̵')"
   ]
  },
  {
   "cell_type": "code",
   "execution_count": 100,
   "metadata": {},
   "outputs": [],
   "source": [
    "# Remove the crossing-out symbol, since it's for numerical signs. \n",
    "tmp_text = tmp_text.str.replace('̵', '')"
   ]
  },
  {
   "cell_type": "code",
   "execution_count": 101,
   "metadata": {},
   "outputs": [
    {
     "data": {
      "text/plain": [
       "2119      kutukiŕbitatikoukebosekom̂ḿ\\n\\n\\n  kutakituŕsborbiokou      \n",
       "2178    kúkutútutítibabitátatétekókotóto+leś-skáka++a+mnirŕbekíkium̂ḿ+\n",
       "2232    kutukiŕbitatikokabastokeaubooelm̂nḿite\\nśrbe                  \n",
       "Name: TEXTO, dtype: object"
      ]
     },
     "execution_count": 101,
     "metadata": {},
     "output_type": "execute_result"
    }
   ],
   "source": [
    "get_matches(tmp_text, '̂')"
   ]
  },
  {
   "cell_type": "code",
   "execution_count": 102,
   "metadata": {},
   "outputs": [],
   "source": [
    "# This is a special sign used only three times.\n",
    "tmp_text = tmp_text.str.replace('m' + '̂', '?')"
   ]
  },
  {
   "cell_type": "code",
   "execution_count": 103,
   "metadata": {},
   "outputs": [
    {
     "name": "stdout",
     "output_type": "stream",
     "text": [
      "['\\n', ' ', '*', '+', ',', '-', '0', '1', '2', '3', '4', '5', ':', '<', '>', '?', 'A', 'B', 'C', 'D', 'E', 'F', 'H', 'I', 'J', 'L', 'M', 'N', 'O', 'Q', 'R', 'S', 'T', 'V', 'W', 'X', 'Y', '\\\\', 'a', 'b', 'c', 'd', 'e', 'f', 'g', 'i', 'k', 'l', 'm', 'n', 'o', 'r', 's', 't', 'u', 'v', '{', '}', '©', 'á', 'é', 'í', 'ó', 'ú', 'ń', 'ō', 'ŕ', 'ś', 'Α', 'Δ', 'Ε', 'Ι', 'Κ', 'Λ', 'Ν', 'Π', 'Ω', 'ḿ', '‐', '’', '‡', '∙', '𐘃']\n"
     ]
    }
   ],
   "source": [
    "cs = count(tmp_text, as_list=True)"
   ]
  },
  {
   "cell_type": "code",
   "execution_count": 104,
   "metadata": {},
   "outputs": [
    {
     "data": {
      "text/plain": [
       "779    +o’os’sto’toaall’+\n",
       "Name: TEXTO, dtype: object"
      ]
     },
     "execution_count": 104,
     "metadata": {},
     "output_type": "execute_result"
    }
   ],
   "source": [
    "get_matches(tmp_text, '’')"
   ]
  },
  {
   "cell_type": "code",
   "execution_count": 105,
   "metadata": {},
   "outputs": [],
   "source": [
    "# Note sure what it means. Discard this text.\n",
    "tmp_text.loc[779] = ''"
   ]
  },
  {
   "cell_type": "code",
   "execution_count": 106,
   "metadata": {},
   "outputs": [],
   "source": [
    "iberico['tmp_text'] = tmp_text"
   ]
  },
  {
   "cell_type": "markdown",
   "metadata": {},
   "source": [
    "### There are still some numbers around. We treat them as starting new sections."
   ]
  },
  {
   "cell_type": "code",
   "execution_count": 107,
   "metadata": {},
   "outputs": [],
   "source": [
    "# These are line numbers.\n",
    "tmp_text = tmp_text.str.replace('\\d+', '\\n')"
   ]
  },
  {
   "cell_type": "code",
   "execution_count": 108,
   "metadata": {},
   "outputs": [],
   "source": [
    "iberico['tmp_text'] = tmp_text"
   ]
  },
  {
   "cell_type": "code",
   "execution_count": 109,
   "metadata": {},
   "outputs": [
    {
     "name": "stdout",
     "output_type": "stream",
     "text": [
      "\n",
      " *+,-:<>?ABCDEFHIJLMNOQRSTVWXY\\abcdefgiklmnorstuv{}©áéíóúńōŕśΑΔΕΙΚΛΝΠΩḿ‐‡∙𐘃\n"
     ]
    }
   ],
   "source": [
    "cs = count(tmp_text)"
   ]
  },
  {
   "cell_type": "code",
   "execution_count": 110,
   "metadata": {},
   "outputs": [
    {
     "data": {
      "text/plain": [
       "['be \\\\n I I  \\\\n I I I',\n",
       " '\\\\n leis \\\\n ś',\n",
       " ' \\n\\n \\n\\nśeliŕ:ututa:baśiŕ:tarakar\\n\\nnki\\n\\n\\n  \\n\\notalauki ? ?f ŕ:siel :?rikan\\n\\netaDŕeŕ:sosintikeŕka:nanban\\n\\nbaneśarikan :etaŕ                                                                             urketiikeŕka:e ?f tiDŕ:laki \\n\\n\\n  \\n\\nsaltulakokia kí \\\\n\\n\\nberśiŕka kí \\\\nartakerka kí \\\\n? l ? śtautinka kí \\\\nberśiŕka a o \\\\n kí \\\\n\\n\\nbiurtakerka kí \\\\n?a Dltirka kí \\\\nsaltulakokia kí \\\\nsaltulakokia o \\\\n                                        \\n\\n? beronka kí \\\\nberśiŕka o \\\\nsakarbaśka kí\\\\nberśiŕka ki \\\\naituar kí kia kí \\\\n\\n\\nkaniberonka kí \\\\nbiuriltirka kí \\\\ns ? kelka kí \\\\nbiurtakerka kí \\\\naituar kí ki a kí \\\\n',\n",
       " '\\\\n ban ka\\n\\n\\\\n ta',\n",
       " '\\n +baserté:bonantíté:nḿbaŕte:bortébara:káŕesirteekiar:banité:kaŕ\\n\\n\\n +irten\\n\\n\\n +tín+  \\n\\n\\n boi:ban\\n\\n\\n   ekiar \\\\n kaŕestabikíŕ       \\n\\n\\n ebiŕtéekíar  \\n\\n\\n olekáŕkóeki\\n\\n\\n   oŕotis:\\\\n káŕbi\\n\\n\\n bébér  \\n\\n\\n bélar:ban:iŕ          \\n\\n\\n   ban   iŕ\\n\\n\\n   elbébébébébér   tíbiserbaśtibaa  \\n\\n\\n bankutúriŕaker\\n\\n\\n uŕkébas\\n\\n\\n taŕa  \\n\\n\\n   +banḿibae:  śai   +nboutin   ']"
      ]
     },
     "execution_count": 110,
     "metadata": {},
     "output_type": "execute_result"
    }
   ],
   "source": [
    "# New lines here.\n",
    "cs['\\\\']"
   ]
  },
  {
   "cell_type": "code",
   "execution_count": 111,
   "metadata": {},
   "outputs": [],
   "source": [
    "tmp_text = tmp_text.str.replace('\\\\', '\\n', regex=False)"
   ]
  },
  {
   "cell_type": "markdown",
   "metadata": {},
   "source": [
    "### What are braces?"
   ]
  },
  {
   "cell_type": "code",
   "execution_count": 112,
   "metadata": {},
   "outputs": [
    {
     "data": {
      "text/plain": [
       "1729     etakartalbeteśu:bekebere{kíli}kéletaké+i:bekeberekílieśu\n",
       "Name: TEXTO, dtype: object"
      ]
     },
     "execution_count": 112,
     "metadata": {},
     "output_type": "execute_result"
    }
   ],
   "source": [
    "get_matches(tmp_text, '[{}]')"
   ]
  },
  {
   "cell_type": "code",
   "execution_count": 113,
   "metadata": {},
   "outputs": [],
   "source": [
    "# Get rid of braces since I think they were meant to be brackets or parentheses.\n",
    "tmp_text = tmp_text.str.replace('[{}]', '')"
   ]
  },
  {
   "cell_type": "markdown",
   "metadata": {},
   "source": [
    "### And another weird symbol."
   ]
  },
  {
   "cell_type": "code",
   "execution_count": 114,
   "metadata": {},
   "outputs": [
    {
     "data": {
      "text/plain": [
       "1801      \\n\\n eŕeti--areritaŕatis---ne- \\n\\n ŕer:bekinetaneŕs+ebiŕskaś--ar \\n\\n  bekinetaneŕs:ḿ seikeḿikeriti \\n\\n kokōḿ iakila:tiŕabakeśtaiŕtiśan \\n\\n irlaurtisa:eśkubaŕs:eleŕ:kais             \\n\\n\\n  bora:bitekian:keitiŕeie--eŕ-- \\n\\n kutuŕaŕ--e\n",
       "Name: TEXTO, dtype: object"
      ]
     },
     "execution_count": 114,
     "metadata": {},
     "output_type": "execute_result"
    }
   ],
   "source": [
    "get_matches(tmp_text, 'ō')"
   ]
  },
  {
   "cell_type": "code",
   "execution_count": 115,
   "metadata": {},
   "outputs": [],
   "source": [
    "# This is yet another special sign.\n",
    "tmp_text = tmp_text.str.replace('ō', '?')"
   ]
  },
  {
   "cell_type": "code",
   "execution_count": 116,
   "metadata": {},
   "outputs": [],
   "source": [
    "iberico['tmp_text'] = tmp_text"
   ]
  },
  {
   "cell_type": "markdown",
   "metadata": {},
   "source": [
    "### Now Clean up the whitespaces."
   ]
  },
  {
   "cell_type": "code",
   "execution_count": 117,
   "metadata": {},
   "outputs": [
    {
     "name": "stdout",
     "output_type": "stream",
     "text": [
      "\n",
      " *+,-:<>?ABCDEFHIJLMNOQRSTVWXYabcdefgiklmnorstuv©áéíóúńŕśΑΔΕΙΚΛΝΠΩḿ‐‡∙𐘃\n"
     ]
    }
   ],
   "source": [
    "cs = count(tmp_text)"
   ]
  },
  {
   "cell_type": "code",
   "execution_count": 118,
   "metadata": {},
   "outputs": [],
   "source": [
    "tmp_text = tmp_text.str.replace(' +', ' ')"
   ]
  },
  {
   "cell_type": "code",
   "execution_count": 119,
   "metadata": {},
   "outputs": [],
   "source": [
    "multiline = re.compile('\\n[\\s]*\\n', re.MULTILINE)"
   ]
  },
  {
   "cell_type": "code",
   "execution_count": 120,
   "metadata": {},
   "outputs": [],
   "source": [
    "iberico['cleaned'] = tmp_text = tmp_text.str.replace(multiline, '\\n').apply(lambda s: [ss.strip() for ss in s.split('\\n')])"
   ]
  },
  {
   "cell_type": "markdown",
   "metadata": {},
   "source": [
    "### Finally, get rid of the empty cells."
   ]
  },
  {
   "cell_type": "code",
   "execution_count": 121,
   "metadata": {},
   "outputs": [],
   "source": [
    "cleaned_df = iberico[tmp_text.apply(len) > 0][['REF. HESPERIA', 'cleaned']].rename({'cleaned': 'texts'})"
   ]
  },
  {
   "cell_type": "code",
   "execution_count": 122,
   "metadata": {},
   "outputs": [
    {
     "data": {
      "text/html": [
       "<div>\n",
       "<style scoped>\n",
       "    .dataframe tbody tr th:only-of-type {\n",
       "        vertical-align: middle;\n",
       "    }\n",
       "\n",
       "    .dataframe tbody tr th {\n",
       "        vertical-align: top;\n",
       "    }\n",
       "\n",
       "    .dataframe thead th {\n",
       "        text-align: right;\n",
       "    }\n",
       "</style>\n",
       "<table border=\"1\" class=\"dataframe\">\n",
       "  <thead>\n",
       "    <tr style=\"text-align: right;\">\n",
       "      <th></th>\n",
       "      <th>REF. HESPERIA</th>\n",
       "      <th>cleaned</th>\n",
       "    </tr>\n",
       "  </thead>\n",
       "  <tbody>\n",
       "    <tr>\n",
       "      <th>0</th>\n",
       "      <td>GI.11.01</td>\n",
       "      <td>[obi]</td>\n",
       "    </tr>\n",
       "    <tr>\n",
       "      <th>1</th>\n",
       "      <td>GI.08.05</td>\n",
       "      <td>[---takokoba---]</td>\n",
       "    </tr>\n",
       "    <tr>\n",
       "      <th>2</th>\n",
       "      <td>GI.08.11</td>\n",
       "      <td>[---eś]</td>\n",
       "    </tr>\n",
       "    <tr>\n",
       "      <th>3</th>\n",
       "      <td>GI.10.30</td>\n",
       "      <td>[---ban]</td>\n",
       "    </tr>\n",
       "    <tr>\n",
       "      <th>4</th>\n",
       "      <td>GI.10.21</td>\n",
       "      <td>[kans+]</td>\n",
       "    </tr>\n",
       "    <tr>\n",
       "      <th>...</th>\n",
       "      <td>...</td>\n",
       "      <td>...</td>\n",
       "    </tr>\n",
       "    <tr>\n",
       "      <th>2479</th>\n",
       "      <td>GI.00.01</td>\n",
       "      <td>[, baitolo, baitolo]</td>\n",
       "    </tr>\n",
       "    <tr>\n",
       "      <th>2481</th>\n",
       "      <td>L.25.01FALSA</td>\n",
       "      <td>[nltiŕbo]</td>\n",
       "    </tr>\n",
       "    <tr>\n",
       "      <th>2482</th>\n",
       "      <td>L.23.01FALSA</td>\n",
       "      <td>[śaiti]</td>\n",
       "    </tr>\n",
       "    <tr>\n",
       "      <th>2483</th>\n",
       "      <td>L.22.01FALSA</td>\n",
       "      <td>[ikon-, ḿkeiḿi, iltubel-, eśeban]</td>\n",
       "    </tr>\n",
       "    <tr>\n",
       "      <th>2488</th>\n",
       "      <td>T.11.16SUSPECTA</td>\n",
       "      <td>[++++, lorka]</td>\n",
       "    </tr>\n",
       "  </tbody>\n",
       "</table>\n",
       "<p>2094 rows × 2 columns</p>\n",
       "</div>"
      ],
      "text/plain": [
       "        REF. HESPERIA                            cleaned\n",
       "0     GI.11.01         [obi]                            \n",
       "1     GI.08.05         [---takokoba---]                 \n",
       "2     GI.08.11         [---eś]                          \n",
       "3     GI.10.30         [---ban]                         \n",
       "4     GI.10.21         [kans+]                          \n",
       "...        ...             ...                          \n",
       "2479  GI.00.01         [, baitolo, baitolo]             \n",
       "2481  L.25.01FALSA     [nltiŕbo]                        \n",
       "2482  L.23.01FALSA     [śaiti]                          \n",
       "2483  L.22.01FALSA     [ikon-, ḿkeiḿi, iltubel-, eśeban]\n",
       "2488  T.11.16SUSPECTA  [++++, lorka]                    \n",
       "\n",
       "[2094 rows x 2 columns]"
      ]
     },
     "execution_count": 122,
     "metadata": {},
     "output_type": "execute_result"
    }
   ],
   "source": [
    "cleaned_df"
   ]
  },
  {
   "cell_type": "code",
   "execution_count": 123,
   "metadata": {},
   "outputs": [],
   "source": [
    "cleaned_df.to_csv('iberian.csv', index=None)"
   ]
  }
 ],
 "metadata": {
  "kernelspec": {
   "display_name": "Python 3",
   "language": "python",
   "name": "python3"
  },
  "language_info": {
   "codemirror_mode": {
    "name": "ipython",
    "version": 3
   },
   "file_extension": ".py",
   "mimetype": "text/x-python",
   "name": "python",
   "nbconvert_exporter": "python",
   "pygments_lexer": "ipython3",
   "version": "3.8.5"
  }
 },
 "nbformat": 4,
 "nbformat_minor": 4
}
